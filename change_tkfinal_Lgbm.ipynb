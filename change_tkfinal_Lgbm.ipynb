{
 "cells": [
  {
   "cell_type": "markdown",
   "id": "323c4ff7-c504-4e10-8fd9-68c2b23bb2ab",
   "metadata": {},
   "source": [
    "# LGBM 라벨인코딩 변수선택"
   ]
  },
  {
   "cell_type": "code",
   "execution_count": 55,
   "id": "d7475f41-e4f7-43cb-9594-a9a7446dfe95",
   "metadata": {},
   "outputs": [],
   "source": [
    "# 필요한 sklearn import \n",
    "from sklearn.model_selection import train_test_split\n",
    "from sklearn.preprocessing import StandardScaler\n",
    "from sklearn.linear_model import LogisticRegression\n",
    "from sklearn.tree import DecisionTreeClassifier\n",
    "from sklearn.ensemble import RandomForestClassifier\n",
    "from xgboost import XGBClassifier\n",
    "from lightgbm import LGBMClassifier\n"
   ]
  },
  {
   "cell_type": "code",
   "execution_count": 56,
   "id": "50eedad9-3886-4631-b9d8-4e19c586d3a9",
   "metadata": {},
   "outputs": [],
   "source": [
    "import pandas as pd\n",
    "import numpy as np\n",
    "import matplotlib.pyplot as plt\n",
    "import seaborn as sns\n",
    "import warnings\n",
    "warnings.filterwarnings('ignore')"
   ]
  },
  {
   "cell_type": "code",
   "execution_count": 57,
   "id": "b8866af3-6826-4020-b8c9-481fea5866dd",
   "metadata": {},
   "outputs": [],
   "source": [
    "# train data set\n",
    "loan_train = pd.read_csv('prelabel_loan_train.csv')"
   ]
  },
  {
   "cell_type": "code",
   "execution_count": 58,
   "id": "10d31b00-44cb-4633-8d7a-541dc1c7dc05",
   "metadata": {},
   "outputs": [
    {
     "data": {
      "text/html": [
       "<div>\n",
       "<style scoped>\n",
       "    .dataframe tbody tr th:only-of-type {\n",
       "        vertical-align: middle;\n",
       "    }\n",
       "\n",
       "    .dataframe tbody tr th {\n",
       "        vertical-align: top;\n",
       "    }\n",
       "\n",
       "    .dataframe thead th {\n",
       "        text-align: right;\n",
       "    }\n",
       "</style>\n",
       "<table border=\"1\" class=\"dataframe\">\n",
       "  <thead>\n",
       "    <tr style=\"text-align: right;\">\n",
       "      <th></th>\n",
       "      <th>Loan Amount</th>\n",
       "      <th>Funded Amount</th>\n",
       "      <th>Funded Amount Investor</th>\n",
       "      <th>Term</th>\n",
       "      <th>Interest Rate</th>\n",
       "      <th>Grade</th>\n",
       "      <th>Sub Grade</th>\n",
       "      <th>Home Ownership</th>\n",
       "      <th>Employment Duration</th>\n",
       "      <th>Verification Status</th>\n",
       "      <th>...</th>\n",
       "      <th>Recoveries</th>\n",
       "      <th>Collection Recovery Fee</th>\n",
       "      <th>Collection 12 months Medical</th>\n",
       "      <th>Application Type</th>\n",
       "      <th>Last week Pay</th>\n",
       "      <th>Accounts Delinquent</th>\n",
       "      <th>Total Collection Amount</th>\n",
       "      <th>Total Current Balance</th>\n",
       "      <th>Total Revolving Credit Limit</th>\n",
       "      <th>Loan Status</th>\n",
       "    </tr>\n",
       "  </thead>\n",
       "  <tbody>\n",
       "    <tr>\n",
       "      <th>0</th>\n",
       "      <td>10000</td>\n",
       "      <td>32236</td>\n",
       "      <td>12329.36286</td>\n",
       "      <td>59</td>\n",
       "      <td>11.135007</td>\n",
       "      <td>B</td>\n",
       "      <td>C4</td>\n",
       "      <td>MORTGAGE</td>\n",
       "      <td>176346.62670</td>\n",
       "      <td>Not Verified</td>\n",
       "      <td>...</td>\n",
       "      <td>2.498291</td>\n",
       "      <td>0.793724</td>\n",
       "      <td>0</td>\n",
       "      <td>INDIVIDUAL</td>\n",
       "      <td>49</td>\n",
       "      <td>0</td>\n",
       "      <td>31</td>\n",
       "      <td>311301</td>\n",
       "      <td>6619</td>\n",
       "      <td>0</td>\n",
       "    </tr>\n",
       "    <tr>\n",
       "      <th>1</th>\n",
       "      <td>3609</td>\n",
       "      <td>11940</td>\n",
       "      <td>12191.99692</td>\n",
       "      <td>59</td>\n",
       "      <td>12.237563</td>\n",
       "      <td>C</td>\n",
       "      <td>D3</td>\n",
       "      <td>RENT</td>\n",
       "      <td>39833.92100</td>\n",
       "      <td>Source Verified</td>\n",
       "      <td>...</td>\n",
       "      <td>2.377215</td>\n",
       "      <td>0.974821</td>\n",
       "      <td>0</td>\n",
       "      <td>INDIVIDUAL</td>\n",
       "      <td>109</td>\n",
       "      <td>0</td>\n",
       "      <td>53</td>\n",
       "      <td>182610</td>\n",
       "      <td>20885</td>\n",
       "      <td>0</td>\n",
       "    </tr>\n",
       "    <tr>\n",
       "      <th>2</th>\n",
       "      <td>28276</td>\n",
       "      <td>9311</td>\n",
       "      <td>21603.22455</td>\n",
       "      <td>59</td>\n",
       "      <td>12.545884</td>\n",
       "      <td>F</td>\n",
       "      <td>D4</td>\n",
       "      <td>MORTGAGE</td>\n",
       "      <td>91506.69105</td>\n",
       "      <td>Source Verified</td>\n",
       "      <td>...</td>\n",
       "      <td>4.316277</td>\n",
       "      <td>1.020075</td>\n",
       "      <td>0</td>\n",
       "      <td>INDIVIDUAL</td>\n",
       "      <td>66</td>\n",
       "      <td>0</td>\n",
       "      <td>34</td>\n",
       "      <td>89801</td>\n",
       "      <td>26155</td>\n",
       "      <td>0</td>\n",
       "    </tr>\n",
       "    <tr>\n",
       "      <th>3</th>\n",
       "      <td>11170</td>\n",
       "      <td>6954</td>\n",
       "      <td>17877.15585</td>\n",
       "      <td>59</td>\n",
       "      <td>16.731201</td>\n",
       "      <td>C</td>\n",
       "      <td>C3</td>\n",
       "      <td>MORTGAGE</td>\n",
       "      <td>108286.57590</td>\n",
       "      <td>Source Verified</td>\n",
       "      <td>...</td>\n",
       "      <td>0.107020</td>\n",
       "      <td>0.749971</td>\n",
       "      <td>0</td>\n",
       "      <td>INDIVIDUAL</td>\n",
       "      <td>39</td>\n",
       "      <td>0</td>\n",
       "      <td>40</td>\n",
       "      <td>9189</td>\n",
       "      <td>60214</td>\n",
       "      <td>0</td>\n",
       "    </tr>\n",
       "    <tr>\n",
       "      <th>4</th>\n",
       "      <td>16890</td>\n",
       "      <td>13226</td>\n",
       "      <td>13539.92667</td>\n",
       "      <td>59</td>\n",
       "      <td>15.008300</td>\n",
       "      <td>C</td>\n",
       "      <td>D4</td>\n",
       "      <td>MORTGAGE</td>\n",
       "      <td>44234.82545</td>\n",
       "      <td>Source Verified</td>\n",
       "      <td>...</td>\n",
       "      <td>1294.818751</td>\n",
       "      <td>0.368953</td>\n",
       "      <td>0</td>\n",
       "      <td>INDIVIDUAL</td>\n",
       "      <td>18</td>\n",
       "      <td>0</td>\n",
       "      <td>430</td>\n",
       "      <td>126029</td>\n",
       "      <td>22579</td>\n",
       "      <td>0</td>\n",
       "    </tr>\n",
       "    <tr>\n",
       "      <th>...</th>\n",
       "      <td>...</td>\n",
       "      <td>...</td>\n",
       "      <td>...</td>\n",
       "      <td>...</td>\n",
       "      <td>...</td>\n",
       "      <td>...</td>\n",
       "      <td>...</td>\n",
       "      <td>...</td>\n",
       "      <td>...</td>\n",
       "      <td>...</td>\n",
       "      <td>...</td>\n",
       "      <td>...</td>\n",
       "      <td>...</td>\n",
       "      <td>...</td>\n",
       "      <td>...</td>\n",
       "      <td>...</td>\n",
       "      <td>...</td>\n",
       "      <td>...</td>\n",
       "      <td>...</td>\n",
       "      <td>...</td>\n",
       "      <td>...</td>\n",
       "    </tr>\n",
       "    <tr>\n",
       "      <th>63241</th>\n",
       "      <td>11440</td>\n",
       "      <td>17672</td>\n",
       "      <td>22965.76290</td>\n",
       "      <td>59</td>\n",
       "      <td>15.025260</td>\n",
       "      <td>C</td>\n",
       "      <td>B1</td>\n",
       "      <td>RENT</td>\n",
       "      <td>76128.78634</td>\n",
       "      <td>Verified</td>\n",
       "      <td>...</td>\n",
       "      <td>0.061096</td>\n",
       "      <td>0.325564</td>\n",
       "      <td>0</td>\n",
       "      <td>INDIVIDUAL</td>\n",
       "      <td>151</td>\n",
       "      <td>0</td>\n",
       "      <td>38</td>\n",
       "      <td>859647</td>\n",
       "      <td>21468</td>\n",
       "      <td>0</td>\n",
       "    </tr>\n",
       "    <tr>\n",
       "      <th>63242</th>\n",
       "      <td>8323</td>\n",
       "      <td>11046</td>\n",
       "      <td>15637.46301</td>\n",
       "      <td>59</td>\n",
       "      <td>9.972104</td>\n",
       "      <td>C</td>\n",
       "      <td>B3</td>\n",
       "      <td>RENT</td>\n",
       "      <td>65491.12817</td>\n",
       "      <td>Source Verified</td>\n",
       "      <td>...</td>\n",
       "      <td>2.015494</td>\n",
       "      <td>1.403368</td>\n",
       "      <td>0</td>\n",
       "      <td>INDIVIDUAL</td>\n",
       "      <td>14</td>\n",
       "      <td>0</td>\n",
       "      <td>37</td>\n",
       "      <td>22692</td>\n",
       "      <td>8714</td>\n",
       "      <td>0</td>\n",
       "    </tr>\n",
       "    <tr>\n",
       "      <th>63243</th>\n",
       "      <td>15897</td>\n",
       "      <td>32921</td>\n",
       "      <td>12329.45775</td>\n",
       "      <td>59</td>\n",
       "      <td>19.650943</td>\n",
       "      <td>A</td>\n",
       "      <td>F3</td>\n",
       "      <td>MORTGAGE</td>\n",
       "      <td>34813.96985</td>\n",
       "      <td>Verified</td>\n",
       "      <td>...</td>\n",
       "      <td>5.673092</td>\n",
       "      <td>1.607093</td>\n",
       "      <td>0</td>\n",
       "      <td>INDIVIDUAL</td>\n",
       "      <td>137</td>\n",
       "      <td>0</td>\n",
       "      <td>17</td>\n",
       "      <td>176857</td>\n",
       "      <td>42330</td>\n",
       "      <td>0</td>\n",
       "    </tr>\n",
       "    <tr>\n",
       "      <th>63244</th>\n",
       "      <td>16567</td>\n",
       "      <td>4975</td>\n",
       "      <td>21353.68465</td>\n",
       "      <td>59</td>\n",
       "      <td>13.169095</td>\n",
       "      <td>D</td>\n",
       "      <td>E3</td>\n",
       "      <td>OWN</td>\n",
       "      <td>96938.83564</td>\n",
       "      <td>Not Verified</td>\n",
       "      <td>...</td>\n",
       "      <td>1.157454</td>\n",
       "      <td>0.207608</td>\n",
       "      <td>0</td>\n",
       "      <td>INDIVIDUAL</td>\n",
       "      <td>73</td>\n",
       "      <td>0</td>\n",
       "      <td>61</td>\n",
       "      <td>361339</td>\n",
       "      <td>39075</td>\n",
       "      <td>0</td>\n",
       "    </tr>\n",
       "    <tr>\n",
       "      <th>63245</th>\n",
       "      <td>15353</td>\n",
       "      <td>29875</td>\n",
       "      <td>14207.44860</td>\n",
       "      <td>59</td>\n",
       "      <td>16.034631</td>\n",
       "      <td>B</td>\n",
       "      <td>D1</td>\n",
       "      <td>MORTGAGE</td>\n",
       "      <td>105123.15580</td>\n",
       "      <td>Verified</td>\n",
       "      <td>...</td>\n",
       "      <td>1.856480</td>\n",
       "      <td>0.366386</td>\n",
       "      <td>0</td>\n",
       "      <td>INDIVIDUAL</td>\n",
       "      <td>54</td>\n",
       "      <td>0</td>\n",
       "      <td>47</td>\n",
       "      <td>196960</td>\n",
       "      <td>66060</td>\n",
       "      <td>0</td>\n",
       "    </tr>\n",
       "  </tbody>\n",
       "</table>\n",
       "<p>63246 rows × 32 columns</p>\n",
       "</div>"
      ],
      "text/plain": [
       "       Loan Amount  Funded Amount  Funded Amount Investor  Term  \\\n",
       "0            10000          32236             12329.36286    59   \n",
       "1             3609          11940             12191.99692    59   \n",
       "2            28276           9311             21603.22455    59   \n",
       "3            11170           6954             17877.15585    59   \n",
       "4            16890          13226             13539.92667    59   \n",
       "...            ...            ...                     ...   ...   \n",
       "63241        11440          17672             22965.76290    59   \n",
       "63242         8323          11046             15637.46301    59   \n",
       "63243        15897          32921             12329.45775    59   \n",
       "63244        16567           4975             21353.68465    59   \n",
       "63245        15353          29875             14207.44860    59   \n",
       "\n",
       "       Interest Rate Grade Sub Grade Home Ownership  Employment Duration  \\\n",
       "0          11.135007     B        C4       MORTGAGE         176346.62670   \n",
       "1          12.237563     C        D3           RENT          39833.92100   \n",
       "2          12.545884     F        D4       MORTGAGE          91506.69105   \n",
       "3          16.731201     C        C3       MORTGAGE         108286.57590   \n",
       "4          15.008300     C        D4       MORTGAGE          44234.82545   \n",
       "...              ...   ...       ...            ...                  ...   \n",
       "63241      15.025260     C        B1           RENT          76128.78634   \n",
       "63242       9.972104     C        B3           RENT          65491.12817   \n",
       "63243      19.650943     A        F3       MORTGAGE          34813.96985   \n",
       "63244      13.169095     D        E3            OWN          96938.83564   \n",
       "63245      16.034631     B        D1       MORTGAGE         105123.15580   \n",
       "\n",
       "      Verification Status  ...   Recoveries  Collection Recovery Fee  \\\n",
       "0            Not Verified  ...     2.498291                 0.793724   \n",
       "1         Source Verified  ...     2.377215                 0.974821   \n",
       "2         Source Verified  ...     4.316277                 1.020075   \n",
       "3         Source Verified  ...     0.107020                 0.749971   \n",
       "4         Source Verified  ...  1294.818751                 0.368953   \n",
       "...                   ...  ...          ...                      ...   \n",
       "63241            Verified  ...     0.061096                 0.325564   \n",
       "63242     Source Verified  ...     2.015494                 1.403368   \n",
       "63243            Verified  ...     5.673092                 1.607093   \n",
       "63244        Not Verified  ...     1.157454                 0.207608   \n",
       "63245            Verified  ...     1.856480                 0.366386   \n",
       "\n",
       "       Collection 12 months Medical  Application Type  Last week Pay  \\\n",
       "0                                 0        INDIVIDUAL             49   \n",
       "1                                 0        INDIVIDUAL            109   \n",
       "2                                 0        INDIVIDUAL             66   \n",
       "3                                 0        INDIVIDUAL             39   \n",
       "4                                 0        INDIVIDUAL             18   \n",
       "...                             ...               ...            ...   \n",
       "63241                             0        INDIVIDUAL            151   \n",
       "63242                             0        INDIVIDUAL             14   \n",
       "63243                             0        INDIVIDUAL            137   \n",
       "63244                             0        INDIVIDUAL             73   \n",
       "63245                             0        INDIVIDUAL             54   \n",
       "\n",
       "       Accounts Delinquent  Total Collection Amount  Total Current Balance  \\\n",
       "0                        0                       31                 311301   \n",
       "1                        0                       53                 182610   \n",
       "2                        0                       34                  89801   \n",
       "3                        0                       40                   9189   \n",
       "4                        0                      430                 126029   \n",
       "...                    ...                      ...                    ...   \n",
       "63241                    0                       38                 859647   \n",
       "63242                    0                       37                  22692   \n",
       "63243                    0                       17                 176857   \n",
       "63244                    0                       61                 361339   \n",
       "63245                    0                       47                 196960   \n",
       "\n",
       "       Total Revolving Credit Limit Loan Status  \n",
       "0                              6619           0  \n",
       "1                             20885           0  \n",
       "2                             26155           0  \n",
       "3                             60214           0  \n",
       "4                             22579           0  \n",
       "...                             ...         ...  \n",
       "63241                         21468           0  \n",
       "63242                          8714           0  \n",
       "63243                         42330           0  \n",
       "63244                         39075           0  \n",
       "63245                         66060           0  \n",
       "\n",
       "[63246 rows x 32 columns]"
      ]
     },
     "execution_count": 58,
     "metadata": {},
     "output_type": "execute_result"
    }
   ],
   "source": [
    "loan_train"
   ]
  },
  {
   "cell_type": "code",
   "execution_count": 59,
   "id": "b82257f8-943c-4041-b744-4238b4a82e09",
   "metadata": {},
   "outputs": [
    {
     "data": {
      "text/plain": [
       "Index(['Grade', 'Sub Grade', 'Home Ownership', 'Verification Status',\n",
       "       'Loan Title', 'Initial List Status', 'Application Type'],\n",
       "      dtype='object')"
      ]
     },
     "execution_count": 59,
     "metadata": {},
     "output_type": "execute_result"
    }
   ],
   "source": [
    "object_train = loan_train[[\"Grade\", \"Sub Grade\", \"Home Ownership\",\"Verification Status\",\n",
    " \"Loan Title\", \"Initial List Status\",\"Application Type\"]]\n",
    "object_train.columns"
   ]
  },
  {
   "cell_type": "code",
   "execution_count": 60,
   "id": "a4c22d87-3c9e-4437-8b01-61d4d0fee606",
   "metadata": {},
   "outputs": [
    {
     "name": "stdout",
     "output_type": "stream",
     "text": [
      "Grade_dict = {'A': 0, 'B': 1, 'C': 2, 'D': 3, 'E': 4, 'F': 5, 'G': 6}\n",
      "Sub Grade_dict = {'A1': 0, 'A2': 1, 'A3': 2, 'A4': 3, 'A5': 4, 'B1': 5, 'B2': 6, 'B3': 7, 'B4': 8, 'B5': 9, 'C1': 10, 'C2': 11, 'C3': 12, 'C4': 13, 'C5': 14, 'D1': 15, 'D2': 16, 'D3': 17, 'D4': 18, 'D5': 19, 'E1': 20, 'E2': 21, 'E3': 22, 'E4': 23, 'E5': 24, 'F1': 25, 'F2': 26, 'F3': 27, 'F4': 28, 'F5': 29, 'G1': 30, 'G2': 31, 'G3': 32, 'G4': 33, 'G5': 34}\n",
      "Home Ownership_dict = {'MORTGAGE': 0, 'OWN': 1, 'RENT': 2}\n",
      "Verification Status_dict = {'Not Verified': 0, 'Source Verified': 1, 'Verified': 2}\n",
      "Loan Title_dict = {'business loan': 0, 'car loan': 1, 'consolidation': 2, 'credit card loan': 3, 'credit loan': 4, 'debt': 5, 'medical': 6, 'mortgage loan': 7, 'other': 8, 'payoff': 9, 'personal loan': 10}\n",
      "Initial List Status_dict = {'f': 0, 'w': 1}\n",
      "Application Type_dict = {'INDIVIDUAL': 0, 'JOINT': 1}\n"
     ]
    }
   ],
   "source": [
    "# 라벨 인코딩\n",
    "from sklearn.preprocessing import LabelEncoder\n",
    "\n",
    "for i in object_train.columns:\n",
    "    encoder = LabelEncoder()\n",
    "    loan_train[i] = encoder.fit_transform(loan_train[i])\n",
    "    loan_decoded = {val: i for i, val in enumerate(encoder.classes_)}\n",
    "\n",
    "    # 인코딩 전의 원래 값과 인코딩된 값을 딕셔너리로 만든 형태를 출력\n",
    "    print(f'{i}_dict = {loan_decoded}')"
   ]
  },
  {
   "cell_type": "code",
   "execution_count": 61,
   "id": "170351f4-2e65-43ab-8740-f45f056fb8cf",
   "metadata": {},
   "outputs": [],
   "source": [
    "# 인코딩 전의 원래 값과 인코딩된 값을 딕셔너리로 만듦\n",
    "Grade_dict = {'A': 0, 'B': 1, 'C': 2, 'D': 3, 'E': 4, 'F': 5, 'G': 6},\n",
    "Sub_Grade_dict = {'A1': 0, 'A2': 1, 'A3': 2, 'A4': 3, 'A5': 4, 'B1': 5, 'B2': 6, 'B3': 7, 'B4': 8, 'B5': 9, 'C1': 10, 'C2': 11, 'C3': 12, 'C4': 13, 'C5': 14, 'D1': 15, 'D2': 16, 'D3': 17, 'D4': 18, 'D5': 19, 'E1': 20, 'E2': 21, 'E3': 22, 'E4': 23, 'E5': 24, 'F1': 25, 'F2': 26, 'F3': 27, 'F4': 28, 'F5': 29, 'G1': 30, 'G2': 31, 'G3': 32, 'G4': 33, 'G5': 34},\n",
    "Home_Ownership_dict = {'MORTGAGE': 0, 'OWN': 1, 'RENT': 2},\n",
    "Verification_Status_dict = {'Not Verified': 0, 'Source Verified': 1, 'Verified': 2},\n",
    "Loan_Title_dict = {'business loan': 0, 'car loan': 1, 'consolidation': 2, 'credit card loan': 3, 'credit loan': 4, 'debt': 5, 'medical': 6, 'mortgage loan': 7, 'other': 8, 'payoff': 9, 'personal loan': 10},\n",
    "Initial_List_Status_dict = {'f': 0, 'w': 1},\n",
    "Application_Type_dict = {'INDIVIDUAL': 0, 'JOINT': 1}"
   ]
  },
  {
   "cell_type": "code",
   "execution_count": 62,
   "id": "8cb9b24a-576e-472e-9072-ee0460358b19",
   "metadata": {},
   "outputs": [
    {
     "data": {
      "text/html": [
       "<div>\n",
       "<style scoped>\n",
       "    .dataframe tbody tr th:only-of-type {\n",
       "        vertical-align: middle;\n",
       "    }\n",
       "\n",
       "    .dataframe tbody tr th {\n",
       "        vertical-align: top;\n",
       "    }\n",
       "\n",
       "    .dataframe thead th {\n",
       "        text-align: right;\n",
       "    }\n",
       "</style>\n",
       "<table border=\"1\" class=\"dataframe\">\n",
       "  <thead>\n",
       "    <tr style=\"text-align: right;\">\n",
       "      <th></th>\n",
       "      <th>Loan Amount</th>\n",
       "      <th>Funded Amount</th>\n",
       "      <th>Funded Amount Investor</th>\n",
       "      <th>Term</th>\n",
       "      <th>Interest Rate</th>\n",
       "      <th>Grade</th>\n",
       "      <th>Sub Grade</th>\n",
       "      <th>Home Ownership</th>\n",
       "      <th>Employment Duration</th>\n",
       "      <th>Verification Status</th>\n",
       "      <th>...</th>\n",
       "      <th>Recoveries</th>\n",
       "      <th>Collection Recovery Fee</th>\n",
       "      <th>Collection 12 months Medical</th>\n",
       "      <th>Application Type</th>\n",
       "      <th>Last week Pay</th>\n",
       "      <th>Accounts Delinquent</th>\n",
       "      <th>Total Collection Amount</th>\n",
       "      <th>Total Current Balance</th>\n",
       "      <th>Total Revolving Credit Limit</th>\n",
       "      <th>Loan Status</th>\n",
       "    </tr>\n",
       "  </thead>\n",
       "  <tbody>\n",
       "    <tr>\n",
       "      <th>0</th>\n",
       "      <td>10000</td>\n",
       "      <td>32236</td>\n",
       "      <td>12329.36286</td>\n",
       "      <td>59</td>\n",
       "      <td>11.135007</td>\n",
       "      <td>1</td>\n",
       "      <td>13</td>\n",
       "      <td>0</td>\n",
       "      <td>176346.62670</td>\n",
       "      <td>0</td>\n",
       "      <td>...</td>\n",
       "      <td>2.498291</td>\n",
       "      <td>0.793724</td>\n",
       "      <td>0</td>\n",
       "      <td>0</td>\n",
       "      <td>49</td>\n",
       "      <td>0</td>\n",
       "      <td>31</td>\n",
       "      <td>311301</td>\n",
       "      <td>6619</td>\n",
       "      <td>0</td>\n",
       "    </tr>\n",
       "    <tr>\n",
       "      <th>1</th>\n",
       "      <td>3609</td>\n",
       "      <td>11940</td>\n",
       "      <td>12191.99692</td>\n",
       "      <td>59</td>\n",
       "      <td>12.237563</td>\n",
       "      <td>2</td>\n",
       "      <td>17</td>\n",
       "      <td>2</td>\n",
       "      <td>39833.92100</td>\n",
       "      <td>1</td>\n",
       "      <td>...</td>\n",
       "      <td>2.377215</td>\n",
       "      <td>0.974821</td>\n",
       "      <td>0</td>\n",
       "      <td>0</td>\n",
       "      <td>109</td>\n",
       "      <td>0</td>\n",
       "      <td>53</td>\n",
       "      <td>182610</td>\n",
       "      <td>20885</td>\n",
       "      <td>0</td>\n",
       "    </tr>\n",
       "    <tr>\n",
       "      <th>2</th>\n",
       "      <td>28276</td>\n",
       "      <td>9311</td>\n",
       "      <td>21603.22455</td>\n",
       "      <td>59</td>\n",
       "      <td>12.545884</td>\n",
       "      <td>5</td>\n",
       "      <td>18</td>\n",
       "      <td>0</td>\n",
       "      <td>91506.69105</td>\n",
       "      <td>1</td>\n",
       "      <td>...</td>\n",
       "      <td>4.316277</td>\n",
       "      <td>1.020075</td>\n",
       "      <td>0</td>\n",
       "      <td>0</td>\n",
       "      <td>66</td>\n",
       "      <td>0</td>\n",
       "      <td>34</td>\n",
       "      <td>89801</td>\n",
       "      <td>26155</td>\n",
       "      <td>0</td>\n",
       "    </tr>\n",
       "    <tr>\n",
       "      <th>3</th>\n",
       "      <td>11170</td>\n",
       "      <td>6954</td>\n",
       "      <td>17877.15585</td>\n",
       "      <td>59</td>\n",
       "      <td>16.731201</td>\n",
       "      <td>2</td>\n",
       "      <td>12</td>\n",
       "      <td>0</td>\n",
       "      <td>108286.57590</td>\n",
       "      <td>1</td>\n",
       "      <td>...</td>\n",
       "      <td>0.107020</td>\n",
       "      <td>0.749971</td>\n",
       "      <td>0</td>\n",
       "      <td>0</td>\n",
       "      <td>39</td>\n",
       "      <td>0</td>\n",
       "      <td>40</td>\n",
       "      <td>9189</td>\n",
       "      <td>60214</td>\n",
       "      <td>0</td>\n",
       "    </tr>\n",
       "    <tr>\n",
       "      <th>4</th>\n",
       "      <td>16890</td>\n",
       "      <td>13226</td>\n",
       "      <td>13539.92667</td>\n",
       "      <td>59</td>\n",
       "      <td>15.008300</td>\n",
       "      <td>2</td>\n",
       "      <td>18</td>\n",
       "      <td>0</td>\n",
       "      <td>44234.82545</td>\n",
       "      <td>1</td>\n",
       "      <td>...</td>\n",
       "      <td>1294.818751</td>\n",
       "      <td>0.368953</td>\n",
       "      <td>0</td>\n",
       "      <td>0</td>\n",
       "      <td>18</td>\n",
       "      <td>0</td>\n",
       "      <td>430</td>\n",
       "      <td>126029</td>\n",
       "      <td>22579</td>\n",
       "      <td>0</td>\n",
       "    </tr>\n",
       "    <tr>\n",
       "      <th>...</th>\n",
       "      <td>...</td>\n",
       "      <td>...</td>\n",
       "      <td>...</td>\n",
       "      <td>...</td>\n",
       "      <td>...</td>\n",
       "      <td>...</td>\n",
       "      <td>...</td>\n",
       "      <td>...</td>\n",
       "      <td>...</td>\n",
       "      <td>...</td>\n",
       "      <td>...</td>\n",
       "      <td>...</td>\n",
       "      <td>...</td>\n",
       "      <td>...</td>\n",
       "      <td>...</td>\n",
       "      <td>...</td>\n",
       "      <td>...</td>\n",
       "      <td>...</td>\n",
       "      <td>...</td>\n",
       "      <td>...</td>\n",
       "      <td>...</td>\n",
       "    </tr>\n",
       "    <tr>\n",
       "      <th>63241</th>\n",
       "      <td>11440</td>\n",
       "      <td>17672</td>\n",
       "      <td>22965.76290</td>\n",
       "      <td>59</td>\n",
       "      <td>15.025260</td>\n",
       "      <td>2</td>\n",
       "      <td>5</td>\n",
       "      <td>2</td>\n",
       "      <td>76128.78634</td>\n",
       "      <td>2</td>\n",
       "      <td>...</td>\n",
       "      <td>0.061096</td>\n",
       "      <td>0.325564</td>\n",
       "      <td>0</td>\n",
       "      <td>0</td>\n",
       "      <td>151</td>\n",
       "      <td>0</td>\n",
       "      <td>38</td>\n",
       "      <td>859647</td>\n",
       "      <td>21468</td>\n",
       "      <td>0</td>\n",
       "    </tr>\n",
       "    <tr>\n",
       "      <th>63242</th>\n",
       "      <td>8323</td>\n",
       "      <td>11046</td>\n",
       "      <td>15637.46301</td>\n",
       "      <td>59</td>\n",
       "      <td>9.972104</td>\n",
       "      <td>2</td>\n",
       "      <td>7</td>\n",
       "      <td>2</td>\n",
       "      <td>65491.12817</td>\n",
       "      <td>1</td>\n",
       "      <td>...</td>\n",
       "      <td>2.015494</td>\n",
       "      <td>1.403368</td>\n",
       "      <td>0</td>\n",
       "      <td>0</td>\n",
       "      <td>14</td>\n",
       "      <td>0</td>\n",
       "      <td>37</td>\n",
       "      <td>22692</td>\n",
       "      <td>8714</td>\n",
       "      <td>0</td>\n",
       "    </tr>\n",
       "    <tr>\n",
       "      <th>63243</th>\n",
       "      <td>15897</td>\n",
       "      <td>32921</td>\n",
       "      <td>12329.45775</td>\n",
       "      <td>59</td>\n",
       "      <td>19.650943</td>\n",
       "      <td>0</td>\n",
       "      <td>27</td>\n",
       "      <td>0</td>\n",
       "      <td>34813.96985</td>\n",
       "      <td>2</td>\n",
       "      <td>...</td>\n",
       "      <td>5.673092</td>\n",
       "      <td>1.607093</td>\n",
       "      <td>0</td>\n",
       "      <td>0</td>\n",
       "      <td>137</td>\n",
       "      <td>0</td>\n",
       "      <td>17</td>\n",
       "      <td>176857</td>\n",
       "      <td>42330</td>\n",
       "      <td>0</td>\n",
       "    </tr>\n",
       "    <tr>\n",
       "      <th>63244</th>\n",
       "      <td>16567</td>\n",
       "      <td>4975</td>\n",
       "      <td>21353.68465</td>\n",
       "      <td>59</td>\n",
       "      <td>13.169095</td>\n",
       "      <td>3</td>\n",
       "      <td>22</td>\n",
       "      <td>1</td>\n",
       "      <td>96938.83564</td>\n",
       "      <td>0</td>\n",
       "      <td>...</td>\n",
       "      <td>1.157454</td>\n",
       "      <td>0.207608</td>\n",
       "      <td>0</td>\n",
       "      <td>0</td>\n",
       "      <td>73</td>\n",
       "      <td>0</td>\n",
       "      <td>61</td>\n",
       "      <td>361339</td>\n",
       "      <td>39075</td>\n",
       "      <td>0</td>\n",
       "    </tr>\n",
       "    <tr>\n",
       "      <th>63245</th>\n",
       "      <td>15353</td>\n",
       "      <td>29875</td>\n",
       "      <td>14207.44860</td>\n",
       "      <td>59</td>\n",
       "      <td>16.034631</td>\n",
       "      <td>1</td>\n",
       "      <td>15</td>\n",
       "      <td>0</td>\n",
       "      <td>105123.15580</td>\n",
       "      <td>2</td>\n",
       "      <td>...</td>\n",
       "      <td>1.856480</td>\n",
       "      <td>0.366386</td>\n",
       "      <td>0</td>\n",
       "      <td>0</td>\n",
       "      <td>54</td>\n",
       "      <td>0</td>\n",
       "      <td>47</td>\n",
       "      <td>196960</td>\n",
       "      <td>66060</td>\n",
       "      <td>0</td>\n",
       "    </tr>\n",
       "  </tbody>\n",
       "</table>\n",
       "<p>63246 rows × 32 columns</p>\n",
       "</div>"
      ],
      "text/plain": [
       "       Loan Amount  Funded Amount  Funded Amount Investor  Term  \\\n",
       "0            10000          32236             12329.36286    59   \n",
       "1             3609          11940             12191.99692    59   \n",
       "2            28276           9311             21603.22455    59   \n",
       "3            11170           6954             17877.15585    59   \n",
       "4            16890          13226             13539.92667    59   \n",
       "...            ...            ...                     ...   ...   \n",
       "63241        11440          17672             22965.76290    59   \n",
       "63242         8323          11046             15637.46301    59   \n",
       "63243        15897          32921             12329.45775    59   \n",
       "63244        16567           4975             21353.68465    59   \n",
       "63245        15353          29875             14207.44860    59   \n",
       "\n",
       "       Interest Rate  Grade  Sub Grade  Home Ownership  Employment Duration  \\\n",
       "0          11.135007      1         13               0         176346.62670   \n",
       "1          12.237563      2         17               2          39833.92100   \n",
       "2          12.545884      5         18               0          91506.69105   \n",
       "3          16.731201      2         12               0         108286.57590   \n",
       "4          15.008300      2         18               0          44234.82545   \n",
       "...              ...    ...        ...             ...                  ...   \n",
       "63241      15.025260      2          5               2          76128.78634   \n",
       "63242       9.972104      2          7               2          65491.12817   \n",
       "63243      19.650943      0         27               0          34813.96985   \n",
       "63244      13.169095      3         22               1          96938.83564   \n",
       "63245      16.034631      1         15               0         105123.15580   \n",
       "\n",
       "       Verification Status  ...   Recoveries  Collection Recovery Fee  \\\n",
       "0                        0  ...     2.498291                 0.793724   \n",
       "1                        1  ...     2.377215                 0.974821   \n",
       "2                        1  ...     4.316277                 1.020075   \n",
       "3                        1  ...     0.107020                 0.749971   \n",
       "4                        1  ...  1294.818751                 0.368953   \n",
       "...                    ...  ...          ...                      ...   \n",
       "63241                    2  ...     0.061096                 0.325564   \n",
       "63242                    1  ...     2.015494                 1.403368   \n",
       "63243                    2  ...     5.673092                 1.607093   \n",
       "63244                    0  ...     1.157454                 0.207608   \n",
       "63245                    2  ...     1.856480                 0.366386   \n",
       "\n",
       "       Collection 12 months Medical  Application Type  Last week Pay  \\\n",
       "0                                 0                 0             49   \n",
       "1                                 0                 0            109   \n",
       "2                                 0                 0             66   \n",
       "3                                 0                 0             39   \n",
       "4                                 0                 0             18   \n",
       "...                             ...               ...            ...   \n",
       "63241                             0                 0            151   \n",
       "63242                             0                 0             14   \n",
       "63243                             0                 0            137   \n",
       "63244                             0                 0             73   \n",
       "63245                             0                 0             54   \n",
       "\n",
       "       Accounts Delinquent  Total Collection Amount  Total Current Balance  \\\n",
       "0                        0                       31                 311301   \n",
       "1                        0                       53                 182610   \n",
       "2                        0                       34                  89801   \n",
       "3                        0                       40                   9189   \n",
       "4                        0                      430                 126029   \n",
       "...                    ...                      ...                    ...   \n",
       "63241                    0                       38                 859647   \n",
       "63242                    0                       37                  22692   \n",
       "63243                    0                       17                 176857   \n",
       "63244                    0                       61                 361339   \n",
       "63245                    0                       47                 196960   \n",
       "\n",
       "       Total Revolving Credit Limit  Loan Status  \n",
       "0                              6619            0  \n",
       "1                             20885            0  \n",
       "2                             26155            0  \n",
       "3                             60214            0  \n",
       "4                             22579            0  \n",
       "...                             ...          ...  \n",
       "63241                         21468            0  \n",
       "63242                          8714            0  \n",
       "63243                         42330            0  \n",
       "63244                         39075            0  \n",
       "63245                         66060            0  \n",
       "\n",
       "[63246 rows x 32 columns]"
      ]
     },
     "execution_count": 62,
     "metadata": {},
     "output_type": "execute_result"
    }
   ],
   "source": [
    "loan_train"
   ]
  },
  {
   "cell_type": "code",
   "execution_count": 63,
   "id": "af319a28-de74-4a40-b375-7024f4d481c0",
   "metadata": {},
   "outputs": [
    {
     "name": "stdout",
     "output_type": "stream",
     "text": [
      "{0: 'INDIVIDUAL', 1: 'JOINT'}\n",
      "{'INDIVIDUAL': 0, 'JOINT': 1}\n"
     ]
    }
   ],
   "source": [
    "# 인코딩 된 값을 디코딩하여 딕셔너리로 변환\n",
    "loan_encoding = {i: val for i, val in enumerate(encoder.classes_)}\n",
    "loan_decoded = {val: i for i, val in enumerate(encoder.classes_)}\n",
    "\n",
    "print(loan_encoding)  # {0: 'apple', 1: 'banana', 2: 'orange'}\n",
    "print(loan_decoded)   # {'apple': 0, 'banana': 1, 'orange': 2}"
   ]
  },
  {
   "cell_type": "code",
   "execution_count": 64,
   "id": "87d53dd1-517a-4914-ace0-6e9b579dfab0",
   "metadata": {},
   "outputs": [
    {
     "data": {
      "text/plain": [
       "Index(['Loan Amount', 'Funded Amount', 'Funded Amount Investor', 'Term',\n",
       "       'Interest Rate', 'Grade', 'Sub Grade', 'Home Ownership',\n",
       "       'Employment Duration', 'Verification Status', 'Loan Title',\n",
       "       'Debit to Income', 'Delinquency - two years', 'Inquires - six months',\n",
       "       'Open Account', 'Public Record', 'Revolving Balance',\n",
       "       'Revolving Utilities', 'Total Accounts', 'Initial List Status',\n",
       "       'Total Received Interest', 'Total Received Late Fee', 'Recoveries',\n",
       "       'Collection Recovery Fee', 'Collection 12 months Medical',\n",
       "       'Application Type', 'Last week Pay', 'Accounts Delinquent',\n",
       "       'Total Collection Amount', 'Total Current Balance',\n",
       "       'Total Revolving Credit Limit', 'Loan Status'],\n",
       "      dtype='object')"
      ]
     },
     "execution_count": 64,
     "metadata": {},
     "output_type": "execute_result"
    }
   ],
   "source": [
    "# train data set의 컬럼 확인 \n",
    "loan_train.columns"
   ]
  },
  {
   "cell_type": "code",
   "execution_count": 65,
   "id": "8c797ca2-01ea-4f31-916d-f516f1818be6",
   "metadata": {},
   "outputs": [],
   "source": [
    "# 컬럼간의 상관관계 확인\n",
    "# plt.figure(figsize = (14, 14))\n",
    "# sns.heatmap(loan_train.corr(), annot = True, annot_kws={\"size\": 5})\n",
    "# plt.savefig('corr.png');"
   ]
  },
  {
   "cell_type": "markdown",
   "id": "9c456454-9276-433d-a15f-e941f670e907",
   "metadata": {},
   "source": [
    "**object의 컬럼을 label encoding 할 필요성이 있어 보임  \n",
    "null 값이 하나도 없음**"
   ]
  },
  {
   "cell_type": "code",
   "execution_count": 66,
   "id": "303ea218-b74c-4e7a-bc6f-3862d9e1cd26",
   "metadata": {},
   "outputs": [
    {
     "data": {
      "image/png": "[encoded data removed]",
      "text/plain": [
       "<Figure size 640x480 with 1 Axes>"
      ]
     },
     "metadata": {},
     "output_type": "display_data"
    }
   ],
   "source": [
    "import matplotlib.pyplot as plt\n",
    "\n",
    "# ytrain 데이터프레임에서 'loan status' 컬럼의 값이 0인 데이터와 1인 데이터의 개수 구하기\n",
    "zero_count = (loan_train['Loan Status'] == 0).sum()\n",
    "one_count = (loan_train['Loan Status'] == 1).sum()\n",
    "\n",
    "# 그래프 그리기\n",
    "plt.bar([0, 1], [zero_count, one_count], color='purple')\n",
    "plt.xticks([0, 1], ['0', '1'])\n",
    "plt.xlabel('Loan status')\n",
    "plt.ylabel('Count')\n",
    "plt.title('Loan Status Before SMOTETomek')\n",
    "plt.show()\n"
   ]
  },
  {
   "cell_type": "code",
   "execution_count": 67,
   "id": "939c2f19-4197-4257-a93a-5f473009795f",
   "metadata": {},
   "outputs": [],
   "source": [
    "X = loan_train.drop(\"Loan Status\", axis = 1)\n",
    "y = loan_train[\"Loan Status\"]"
   ]
  },
  {
   "cell_type": "code",
   "execution_count": 68,
   "id": "176b1af7-5146-4ac1-8646-63599a80c44f",
   "metadata": {},
   "outputs": [
    {
     "name": "stdout",
     "output_type": "stream",
     "text": [
      "The number of classes before fit Counter({0: 61222, 1: 2024})\n",
      "The number of classes after fit Counter({0: 61176, 1: 61176})\n"
     ]
    }
   ],
   "source": [
    "# 타겟의 비대칭 데이터 문제를 해결하기 위하여 SMOTETomek를 사용\n",
    "\n",
    "#데이터 클래스 비율이 너무 차이가 나면(highly-imbalanced data) \n",
    "#단순히 우세한 클래스를 택하는 모형의 정확도가 높아지므로 모형의 성능판별이 어려워진다. \n",
    "#즉, 정확도(accuracy)가 높아도 데이터 갯수가 적은 클래스의 재현율(recall-rate)이 급격히 작아지는 현상이 발생할 수 있다.\n",
    "\n",
    "from imblearn.combine import SMOTETomek\n",
    "from collections import Counter\n",
    "Counter(y)\n",
    "\n",
    "os=SMOTETomek(sampling_strategy='auto', random_state = 20)\n",
    "X_train_ns,y_train_ns=os.fit_resample(X,y)\n",
    "print(\"The number of classes before fit {}\".format(Counter(y)))\n",
    "print(\"The number of classes after fit {}\".format(Counter(y_train_ns)))"
   ]
  },
  {
   "cell_type": "code",
   "execution_count": 69,
   "id": "2e1d33d1-1eb8-4716-a835-c54b7a3de866",
   "metadata": {},
   "outputs": [
    {
     "data": {
      "image/png": "[encoded data removed]",
      "text/plain": [
       "<Figure size 640x480 with 1 Axes>"
      ]
     },
     "metadata": {},
     "output_type": "display_data"
    }
   ],
   "source": [
    "import matplotlib.pyplot as plt\n",
    "\n",
    "# ytrain 데이터프레임에서 'loan status' 컬럼의 값이 0인 데이터와 1인 데이터의 개수 구하기\n",
    "zero_count = (y_train_ns == 0).sum()\n",
    "one_count = (y_train_ns == 1).sum()\n",
    "\n",
    "# 그래프 그리기\n",
    "plt.bar([0, 1], [zero_count, one_count], color='purple')\n",
    "plt.xticks([0, 1], ['0', '1'])\n",
    "plt.xlabel('Loan status')\n",
    "plt.ylabel('Count')\n",
    "plt.title('Loan Status After SMOTETomek')\n",
    "plt.show()\n"
   ]
  },
  {
   "cell_type": "code",
   "execution_count": 70,
   "id": "7c423f5f-c6f3-45de-9e44-1611b7d5f38a",
   "metadata": {},
   "outputs": [
    {
     "data": {
      "text/plain": [
       "31"
      ]
     },
     "execution_count": 70,
     "metadata": {},
     "output_type": "execute_result"
    }
   ],
   "source": [
    "# 데이터 셋 분할\n",
    "from sklearn.model_selection import train_test_split\n",
    "X_train, X_test, y_train, y_test = train_test_split(X_train_ns, y_train_ns, test_size = 0.25, random_state = 20, stratify = y_train_ns)\n",
    "y_train_ns.value_counts(True), y_test.value_counts(True)\n",
    "len(X_train.columns)"
   ]
  },
  {
   "cell_type": "markdown",
   "id": "7a85e40c-b565-47af-954f-db307d3bada2",
   "metadata": {},
   "source": [
    "# SelectFromModel 사용"
   ]
  },
  {
   "cell_type": "code",
   "execution_count": 71,
   "id": "3ef9aa01-1a3a-4dba-814e-5ce611b84270",
   "metadata": {},
   "outputs": [],
   "source": [
    "from sklearn.feature_selection import SelectFromModel\n",
    "\n",
    "f_select = SelectFromModel(LGBMClassifier(random_state = 20),  max_features = 31)\n",
    "f_select.fit(X_train, y_train)\n",
    "f_scores = pd.DataFrame()"
   ]
  },
  {
   "cell_type": "code",
   "execution_count": 72,
   "id": "ff6dfb51-cc57-4dba-a350-31a9c9c53f17",
   "metadata": {},
   "outputs": [
    {
     "data": {
      "text/plain": [
       "array(['Funded Amount', 'Funded Amount Investor', 'Interest Rate',\n",
       "       'Employment Duration', 'Loan Title', 'Debit to Income',\n",
       "       'Open Account', 'Revolving Balance', 'Revolving Utilities',\n",
       "       'Total Received Interest', 'Total Received Late Fee', 'Recoveries',\n",
       "       'Collection Recovery Fee', 'Last week Pay',\n",
       "       'Total Collection Amount', 'Total Current Balance',\n",
       "       'Total Revolving Credit Limit'], dtype=object)"
      ]
     },
     "execution_count": 72,
     "metadata": {},
     "output_type": "execute_result"
    }
   ],
   "source": [
    "f_scores['attribute'] = X_train.columns\n",
    "f_scores['support'] = f_select.get_support()\n",
    "from_model = f_scores[f_scores['support'] == True][\"attribute\"].values\n",
    "from_model"
   ]
  },
  {
   "cell_type": "markdown",
   "id": "2284ca96-d1b0-4f66-bc97-f2267399d29c",
   "metadata": {},
   "source": [
    "# SelectKBest 사용"
   ]
  },
  {
   "cell_type": "code",
   "execution_count": 73,
   "id": "25f9f067-4dec-4622-b924-38442daf8452",
   "metadata": {},
   "outputs": [],
   "source": [
    "kbest = ['Delinquency - two years', 'Open Account', 'Total Received Interest',\n",
    "       'Home Ownership', 'Loan Title', 'Revolving Balance',\n",
    "       'Verification Status', 'Initial List Status', 'Total Collection Amount',\n",
    "       'Total Received Late Fee', 'Funded Amount Investor',\n",
    "       'Employment Duration', 'Total Revolving Credit Limit',\n",
    "       'Inquires - six months', 'Term', 'Recoveries', 'Total Current Balance',\n",
    "       'Public Record', 'Grade', 'Funded Amount', 'Last week Pay',\n",
    "       'Debit to Income', 'Interest Rate', 'Collection Recovery Fee',\n",
    "       'Sub Grade', 'Total Accounts', 'Revolving Utilities']"
   ]
  },
  {
   "cell_type": "code",
   "execution_count": 74,
   "id": "53b55eba-c20e-48d9-b16f-58107b81940d",
   "metadata": {
    "tags": []
   },
   "outputs": [
    {
     "data": {
      "text/plain": [
       "27"
      ]
     },
     "execution_count": 74,
     "metadata": {},
     "output_type": "execute_result"
    }
   ],
   "source": [
    "select = list(set(kbest).union(set(from_model)))\n",
    "len(select)"
   ]
  },
  {
   "cell_type": "code",
   "execution_count": 75,
   "id": "9fe891c6",
   "metadata": {},
   "outputs": [
    {
     "data": {
      "text/plain": [
       "['Collection Recovery Fee',\n",
       " 'Debit to Income',\n",
       " 'Delinquency - two years',\n",
       " 'Employment Duration',\n",
       " 'Funded Amount',\n",
       " 'Funded Amount Investor',\n",
       " 'Grade',\n",
       " 'Home Ownership',\n",
       " 'Initial List Status',\n",
       " 'Inquires - six months',\n",
       " 'Interest Rate',\n",
       " 'Last week Pay',\n",
       " 'Loan Title',\n",
       " 'Open Account',\n",
       " 'Public Record',\n",
       " 'Recoveries',\n",
       " 'Revolving Balance',\n",
       " 'Revolving Utilities',\n",
       " 'Sub Grade',\n",
       " 'Term',\n",
       " 'Total Accounts',\n",
       " 'Total Collection Amount',\n",
       " 'Total Current Balance',\n",
       " 'Total Received Interest',\n",
       " 'Total Received Late Fee',\n",
       " 'Total Revolving Credit Limit',\n",
       " 'Verification Status']"
      ]
     },
     "execution_count": 75,
     "metadata": {},
     "output_type": "execute_result"
    }
   ],
   "source": [
    "select.sort()\n",
    "select"
   ]
  },
  {
   "cell_type": "code",
   "execution_count": 76,
   "id": "41940fc5",
   "metadata": {},
   "outputs": [],
   "source": [
    "# 선별한 특성들 카테고리에 맞게 재 분류  \n",
    "\n",
    "# 재무 관련:\n",
    "\n",
    "# Collection Recovery Fee: 회수 수수료  \n",
    "# Funded Amount: 대출금액  \n",
    "# Funded Amount Investor: 투자자 대출금액  \n",
    "# Interest Rate: 이자율  \n",
    "# Recoveries: 회수액  \n",
    "# Term: 대출 기간  \n",
    "# Total Collection Amount: 총 회수액  \n",
    "# Total Received Interest: 총 이자 수입  \n",
    "# Total Received Late Fee: 총 연체료 수입  \n",
    "\n",
    "# 신용 관련:  \n",
    "\n",
    "# Debit to Income: 월부채 대수입 비율\n",
    "# Delinquency - two years: 2년 내 연체 횟수\n",
    "# Grade: 대출 등급\n",
    "# Inquires - six months: 최근 6개월 신용조회 횟수\n",
    "# Open Account: 개설된 대출 계좌 수\n",
    "# Public Record: 공공기록\n",
    "# Revolving Balance: 회전잔액\n",
    "# Revolving Utilities: 신용카드 한도 사용액\n",
    "# Sub Grade: 서브등급\n",
    "# Total Accounts: 총 대출 계좌 수\n",
    "# Total Current Balance: 총 현재 잔액\n",
    "# Total Revolving Credit Limit: 총 신용카드 한도\n",
    "\n",
    "# 고용 관련:\n",
    "\n",
    "# Employment Duration: 고용 기간\n",
    "# Last week Pay: 최근 1주간 급여\n",
    "\n",
    "# 생활 관련:\n",
    "\n",
    "# Home Ownership: 주택 소유 여부\n",
    "\n",
    "# 기타:\n",
    "\n",
    "# Initial List Status: 대출 상태\n",
    "# Loan Title: 대출 목적\n",
    "# Verification Status: 인증 상태"
   ]
  },
  {
   "cell_type": "code",
   "execution_count": 77,
   "id": "6f135b0c",
   "metadata": {},
   "outputs": [
    {
     "data": {
      "text/plain": [
       "['Collection Recovery Fee',\n",
       " 'Funded Amount',\n",
       " 'Funded Amount Investor',\n",
       " 'Interest Rate',\n",
       " 'Recoveries',\n",
       " 'Term',\n",
       " 'Total Collection Amount',\n",
       " 'Total Received Interest',\n",
       " 'Total Received Late Fee',\n",
       " 'Debit to Income',\n",
       " 'Delinquency - two years',\n",
       " 'Grade',\n",
       " 'Inquires - six months',\n",
       " 'Open Account',\n",
       " 'Public Record',\n",
       " 'Revolving Balance',\n",
       " 'Revolving Utilities',\n",
       " 'Sub Grade',\n",
       " 'Total Accounts',\n",
       " 'Total Current Balance',\n",
       " 'Total Revolving Credit Limit',\n",
       " 'Employment Duration',\n",
       " 'Last week Pay',\n",
       " 'Home Ownership',\n",
       " 'Initial List Status',\n",
       " 'Loan Title',\n",
       " 'Verification Status']"
      ]
     },
     "execution_count": 77,
     "metadata": {},
     "output_type": "execute_result"
    }
   ],
   "source": [
    "select = ['Collection Recovery Fee',\n",
    "'Funded Amount',\n",
    "'Funded Amount Investor',\n",
    "'Interest Rate',\n",
    "'Recoveries',\n",
    "'Term',\n",
    "'Total Collection Amount',\n",
    "'Total Received Interest',\n",
    "'Total Received Late Fee',\n",
    "'Debit to Income',\n",
    "'Delinquency - two years',\n",
    "'Grade',\n",
    "'Inquires - six months',\n",
    "'Open Account',\n",
    "'Public Record',\n",
    "'Revolving Balance',\n",
    "'Revolving Utilities',\n",
    "'Sub Grade',\n",
    "'Total Accounts',\n",
    "'Total Current Balance',\n",
    "'Total Revolving Credit Limit',\n",
    "'Employment Duration',\n",
    "'Last week Pay',\n",
    "'Home Ownership',\n",
    "'Initial List Status',\n",
    "'Loan Title',\n",
    "'Verification Status']\n",
    "select"
   ]
  },
  {
   "cell_type": "code",
   "execution_count": 78,
   "id": "7838400f-4088-4e0e-a073-43998a98c3cf",
   "metadata": {},
   "outputs": [],
   "source": [
    "X = X_train_ns[select]\n",
    "y = y_train_ns"
   ]
  },
  {
   "cell_type": "code",
   "execution_count": 79,
   "id": "d0a1e2db-23b9-46c6-8761-1681eed97952",
   "metadata": {},
   "outputs": [
    {
     "data": {
      "text/plain": [
       "(0    0.5\n",
       " 1    0.5\n",
       " Name: Loan Status, dtype: float64,\n",
       " 0    0.5\n",
       " 1    0.5\n",
       " Name: Loan Status, dtype: float64)"
      ]
     },
     "execution_count": 79,
     "metadata": {},
     "output_type": "execute_result"
    }
   ],
   "source": [
    "# 데이터 셋 분할\n",
    "from sklearn.model_selection import train_test_split\n",
    "X_train, X_test, y_train, y_test = train_test_split(X, y, test_size = 0.25, random_state = 20, stratify = y)\n",
    "y_train.value_counts(True), y_test.value_counts(True)"
   ]
  },
  {
   "cell_type": "markdown",
   "id": "2c1710e7-c434-4352-afa0-c5ed81215cf5",
   "metadata": {},
   "source": [
    "# LGBM 예측 및 시행"
   ]
  },
  {
   "cell_type": "code",
   "execution_count": 80,
   "id": "50014632-6843-49b8-ba8f-fe561d5f16af",
   "metadata": {},
   "outputs": [
    {
     "data": {
      "text/html": [
       "<style>#sk-container-id-2 {color: black;background-color: white;}#sk-container-id-2 pre{padding: 0;}#sk-container-id-2 div.sk-toggleable {background-color: white;}#sk-container-id-2 label.sk-toggleable__label {cursor: pointer;display: block;width: 100%;margin-bottom: 0;padding: 0.3em;box-sizing: border-box;text-align: center;}#sk-container-id-2 label.sk-toggleable__label-arrow:before {content: \"▸\";float: left;margin-right: 0.25em;color: #696969;}#sk-container-id-2 label.sk-toggleable__label-arrow:hover:before {color: black;}#sk-container-id-2 div.sk-estimator:hover label.sk-toggleable__label-arrow:before {color: black;}#sk-container-id-2 div.sk-toggleable__content {max-height: 0;max-width: 0;overflow: hidden;text-align: left;background-color: #f0f8ff;}#sk-container-id-2 div.sk-toggleable__content pre {margin: 0.2em;color: black;border-radius: 0.25em;background-color: #f0f8ff;}#sk-container-id-2 input.sk-toggleable__control:checked~div.sk-toggleable__content {max-height: 200px;max-width: 100%;overflow: auto;}#sk-container-id-2 input.sk-toggleable__control:checked~label.sk-toggleable__label-arrow:before {content: \"▾\";}#sk-container-id-2 div.sk-estimator input.sk-toggleable__control:checked~label.sk-toggleable__label {background-color: #d4ebff;}#sk-container-id-2 div.sk-label input.sk-toggleable__control:checked~label.sk-toggleable__label {background-color: #d4ebff;}#sk-container-id-2 input.sk-hidden--visually {border: 0;clip: rect(1px 1px 1px 1px);clip: rect(1px, 1px, 1px, 1px);height: 1px;margin: -1px;overflow: hidden;padding: 0;position: absolute;width: 1px;}#sk-container-id-2 div.sk-estimator {font-family: monospace;background-color: #f0f8ff;border: 1px dotted black;border-radius: 0.25em;box-sizing: border-box;margin-bottom: 0.5em;}#sk-container-id-2 div.sk-estimator:hover {background-color: #d4ebff;}#sk-container-id-2 div.sk-parallel-item::after {content: \"\";width: 100%;border-bottom: 1px solid gray;flex-grow: 1;}#sk-container-id-2 div.sk-label:hover label.sk-toggleable__label {background-color: #d4ebff;}#sk-container-id-2 div.sk-serial::before {content: \"\";position: absolute;border-left: 1px solid gray;box-sizing: border-box;top: 0;bottom: 0;left: 50%;z-index: 0;}#sk-container-id-2 div.sk-serial {display: flex;flex-direction: column;align-items: center;background-color: white;padding-right: 0.2em;padding-left: 0.2em;position: relative;}#sk-container-id-2 div.sk-item {position: relative;z-index: 1;}#sk-container-id-2 div.sk-parallel {display: flex;align-items: stretch;justify-content: center;background-color: white;position: relative;}#sk-container-id-2 div.sk-item::before, #sk-container-id-2 div.sk-parallel-item::before {content: \"\";position: absolute;border-left: 1px solid gray;box-sizing: border-box;top: 0;bottom: 0;left: 50%;z-index: -1;}#sk-container-id-2 div.sk-parallel-item {display: flex;flex-direction: column;z-index: 1;position: relative;background-color: white;}#sk-container-id-2 div.sk-parallel-item:first-child::after {align-self: flex-end;width: 50%;}#sk-container-id-2 div.sk-parallel-item:last-child::after {align-self: flex-start;width: 50%;}#sk-container-id-2 div.sk-parallel-item:only-child::after {width: 0;}#sk-container-id-2 div.sk-dashed-wrapped {border: 1px dashed gray;margin: 0 0.4em 0.5em 0.4em;box-sizing: border-box;padding-bottom: 0.4em;background-color: white;}#sk-container-id-2 div.sk-label label {font-family: monospace;font-weight: bold;display: inline-block;line-height: 1.2em;}#sk-container-id-2 div.sk-label-container {text-align: center;}#sk-container-id-2 div.sk-container {/* jupyter's `normalize.less` sets `[hidden] { display: none; }` but bootstrap.min.css set `[hidden] { display: none !important; }` so we also need the `!important` here to be able to override the default hidden behavior on the sphinx rendered scikit-learn.org. See: https://github.com/scikit-learn/scikit-learn/issues/21755 */display: inline-block !important;position: relative;}#sk-container-id-2 div.sk-text-repr-fallback {display: none;}</style><div id=\"sk-container-id-2\" class=\"sk-top-container\"><div class=\"sk-text-repr-fallback\"><pre>LGBMClassifier(n_estimators=1000, random_state=20)</pre><b>In a Jupyter environment, please rerun this cell to show the HTML representation or trust the notebook. <br />On GitHub, the HTML representation is unable to render, please try loading this page with nbviewer.org.</b></div><div class=\"sk-container\" hidden><div class=\"sk-item\"><div class=\"sk-estimator sk-toggleable\"><input class=\"sk-toggleable__control sk-hidden--visually\" id=\"sk-estimator-id-2\" type=\"checkbox\" checked><label for=\"sk-estimator-id-2\" class=\"sk-toggleable__label sk-toggleable__label-arrow\">LGBMClassifier</label><div class=\"sk-toggleable__content\"><pre>LGBMClassifier(n_estimators=1000, random_state=20)</pre></div></div></div></div></div>"
      ],
      "text/plain": [
       "LGBMClassifier(n_estimators=1000, random_state=20)"
      ]
     },
     "execution_count": 80,
     "metadata": {},
     "output_type": "execute_result"
    }
   ],
   "source": [
    "lgbm_clf = LGBMClassifier(n_jobs=-1 , random_state= 20, n_estimators = 1000)\n",
    "\n",
    "# 학습\n",
    "lgbm_clf.fit(X_train,y_train)"
   ]
  },
  {
   "cell_type": "code",
   "execution_count": 81,
   "id": "80c9d547-3467-4fdd-b697-6d101b913285",
   "metadata": {},
   "outputs": [
    {
     "name": "stdout",
     "output_type": "stream",
     "text": [
      "----------------------------------------------------------------------------------------------------\n",
      "오차행렬:\n",
      "[[45537   345]\n",
      " [    2 45880]]\n",
      "정확도: 0.9962186 정밀도: 0.9925365 재현율: 0.9999564 F1:0.9962326 AUC: 0.9999597\n",
      "----------------------------------------------------------------------------------------------------\n",
      "오차행렬:\n",
      "[[14447   847]\n",
      " [  137 15157]]\n",
      "정확도: 0.9678305 정밀도: 0.9470757 재현율: 0.9910422 F1:0.9685603 AUC: 0.9958733\n"
     ]
    }
   ],
   "source": [
    "from getscore import get_eval_score\n",
    "get_eval_score(y_train, lgbm_clf.predict(X_train), lgbm_clf.predict_proba(X_train)[:,1])\n",
    "get_eval_score(y_test, lgbm_clf.predict(X_test),lgbm_clf.predict_proba(X_test)[:,1])"
   ]
  },
  {
   "cell_type": "code",
   "execution_count": 82,
   "id": "0bfc05c3-494d-4e29-8da2-d1c9473eea30",
   "metadata": {},
   "outputs": [
    {
     "name": "stdout",
     "output_type": "stream",
     "text": [
      "<class 'pandas.core.frame.DataFrame'>\n",
      "Int64Index: 91764 entries, 54782 to 89245\n",
      "Data columns (total 27 columns):\n",
      " #   Column                        Non-Null Count  Dtype  \n",
      "---  ------                        --------------  -----  \n",
      " 0   Collection Recovery Fee       91764 non-null  float64\n",
      " 1   Funded Amount                 91764 non-null  int64  \n",
      " 2   Funded Amount Investor        91764 non-null  float64\n",
      " 3   Interest Rate                 91764 non-null  float64\n",
      " 4   Recoveries                    91764 non-null  float64\n",
      " 5   Term                          91764 non-null  int64  \n",
      " 6   Total Collection Amount       91764 non-null  int64  \n",
      " 7   Total Received Interest       91764 non-null  float64\n",
      " 8   Total Received Late Fee       91764 non-null  float64\n",
      " 9   Debit to Income               91764 non-null  float64\n",
      " 10  Delinquency - two years       91764 non-null  int64  \n",
      " 11  Grade                         91764 non-null  int32  \n",
      " 12  Inquires - six months         91764 non-null  int64  \n",
      " 13  Open Account                  91764 non-null  int64  \n",
      " 14  Public Record                 91764 non-null  int64  \n",
      " 15  Revolving Balance             91764 non-null  int64  \n",
      " 16  Revolving Utilities           91764 non-null  float64\n",
      " 17  Sub Grade                     91764 non-null  int32  \n",
      " 18  Total Accounts                91764 non-null  int64  \n",
      " 19  Total Current Balance         91764 non-null  int64  \n",
      " 20  Total Revolving Credit Limit  91764 non-null  int64  \n",
      " 21  Employment Duration           91764 non-null  float64\n",
      " 22  Last week Pay                 91764 non-null  int64  \n",
      " 23  Home Ownership                91764 non-null  int32  \n",
      " 24  Initial List Status           91764 non-null  int32  \n",
      " 25  Loan Title                    91764 non-null  int32  \n",
      " 26  Verification Status           91764 non-null  int32  \n",
      "dtypes: float64(9), int32(6), int64(12)\n",
      "memory usage: 17.5 MB\n"
     ]
    }
   ],
   "source": [
    "X_train.info()"
   ]
  },
  {
   "cell_type": "code",
   "execution_count": 83,
   "id": "a9dd158c-3b66-413b-bcb6-3b8dd489dfde",
   "metadata": {},
   "outputs": [],
   "source": [
    "# 인코딩 전의 원래 값과 인코딩된 값을 딕셔너리로 만듦\n",
    "Grade_dict = {'A': 0, 'B': 1, 'C': 2, 'D': 3, 'E': 4, 'F': 5, 'G': 6},\n",
    "Sub_Grade_dict = {'A1': 0, 'A2': 1, 'A3': 2, 'A4': 3, 'A5': 4, 'B1': 5, 'B2': 6, 'B3': 7, 'B4': 8, 'B5': 9, 'C1': 10, 'C2': 11, 'C3': 12, 'C4': 13, 'C5': 14, 'D1': 15, 'D2': 16, 'D3': 17, 'D4': 18, 'D5': 19, 'E1': 20, 'E2': 21, 'E3': 22, 'E4': 23, 'E5': 24, 'F1': 25, 'F2': 26, 'F3': 27, 'F4': 28, 'F5': 29, 'G1': 30, 'G2': 31, 'G3': 32, 'G4': 33, 'G5': 34},\n",
    "Home_Ownership_dict = {'MORTGAGE': 0, 'OWN': 1, 'RENT': 2},\n",
    "Verification_Status_dict = {'Not Verified': 0, 'Source Verified': 1, 'Verified': 2},\n",
    "Loan_Title_dict = {'business loan': 0, 'car loan': 1, 'consolidation': 2, 'credit card loan': 3, 'credit loan': 4, 'debt': 5, 'medical': 6, 'mortgage loan': 7, 'other': 8, 'payoff': 9, 'personal loan': 10},\n",
    "Initial_List_Status_dict = {'f': 0, 'w': 1},\n",
    "Application_Type_dict = {'INDIVIDUAL': 0, 'JOINT': 1}"
   ]
  },
  {
   "cell_type": "code",
   "execution_count": 84,
   "id": "8621fccf-78b9-47ef-81c5-e66dc2135ac2",
   "metadata": {},
   "outputs": [],
   "source": [
    "# case1: y_train값이 1(연체)인 X_train"
   ]
  },
  {
   "cell_type": "code",
   "execution_count": 85,
   "id": "c2e14728-6a3f-428f-a33e-05029f30e1a3",
   "metadata": {},
   "outputs": [
    {
     "name": "stdout",
     "output_type": "stream",
     "text": [
      "1\n"
     ]
    }
   ],
   "source": [
    "# 대출 연체자 찾기\n",
    "i = 0\n",
    "while True:\n",
    "    if y_train.iloc[i] == 1:\n",
    "        print(i)\n",
    "        break\n",
    "    else:\n",
    "        i += 1"
   ]
  },
  {
   "cell_type": "code",
   "execution_count": 86,
   "id": "00fa171f-2614-4d60-ac3c-e22e7fe70b72",
   "metadata": {},
   "outputs": [
    {
     "data": {
      "text/plain": [
       "1"
      ]
     },
     "execution_count": 86,
     "metadata": {},
     "output_type": "execute_result"
    }
   ],
   "source": [
    "y_train.iloc[1]"
   ]
  },
  {
   "cell_type": "code",
   "execution_count": 87,
   "id": "d4ed0271-5934-4d16-af68-580c8f9803eb",
   "metadata": {},
   "outputs": [
    {
     "data": {
      "text/plain": [
       "Collection Recovery Fee             1.082664\n",
       "Funded Amount                   11108.000000\n",
       "Funded Amount Investor           6879.402901\n",
       "Interest Rate                      16.617961\n",
       "Recoveries                          4.668272\n",
       "Term                               59.000000\n",
       "Total Collection Amount            40.000000\n",
       "Total Received Interest          1149.145064\n",
       "Total Received Late Fee             0.013078\n",
       "Debit to Income                    24.489948\n",
       "Delinquency - two years             0.000000\n",
       "Grade                               1.000000\n",
       "Inquires - six months               0.000000\n",
       "Open Account                       12.000000\n",
       "Public Record                       0.000000\n",
       "Revolving Balance                5058.000000\n",
       "Revolving Utilities                53.540547\n",
       "Sub Grade                           8.000000\n",
       "Total Accounts                     17.000000\n",
       "Total Current Balance           79374.000000\n",
       "Total Revolving Credit Limit    20396.000000\n",
       "Employment Duration             97810.511939\n",
       "Last week Pay                      72.000000\n",
       "Home Ownership                      1.000000\n",
       "Initial List Status                 0.000000\n",
       "Loan Title                          2.000000\n",
       "Verification Status                 1.000000\n",
       "Name: 74584, dtype: float64"
      ]
     },
     "execution_count": 87,
     "metadata": {},
     "output_type": "execute_result"
    }
   ],
   "source": [
    "X_train.iloc[1]"
   ]
  },
  {
   "cell_type": "code",
   "execution_count": 88,
   "id": "5f18be82-3cb2-4476-9616-8c1358abbbd8",
   "metadata": {},
   "outputs": [],
   "source": [
    "# case2: y_train값이 0(비연체)인 X_train"
   ]
  },
  {
   "cell_type": "code",
   "execution_count": 89,
   "id": "0a4b36cb-9983-408a-ae21-8f561bed3153",
   "metadata": {},
   "outputs": [
    {
     "name": "stdout",
     "output_type": "stream",
     "text": [
      "0\n"
     ]
    }
   ],
   "source": [
    "# 대출 비연체자 찾기\n",
    "i = 0\n",
    "while True:\n",
    "    if y_train.iloc[i] == 0:\n",
    "        print(i)\n",
    "        break\n",
    "    else:\n",
    "        i += 1"
   ]
  },
  {
   "cell_type": "code",
   "execution_count": 90,
   "id": "d783a3a9-3f14-4d7e-9542-ee32c4f46113",
   "metadata": {},
   "outputs": [
    {
     "data": {
      "text/plain": [
       "0"
      ]
     },
     "execution_count": 90,
     "metadata": {},
     "output_type": "execute_result"
    }
   ],
   "source": [
    "y_train.iloc[0]"
   ]
  },
  {
   "cell_type": "code",
   "execution_count": 91,
   "id": "ca28fd3e-15e1-4b4c-87de-bc8094b75694",
   "metadata": {},
   "outputs": [
    {
     "data": {
      "text/plain": [
       "Collection Recovery Fee              0.802521\n",
       "Funded Amount                    11690.000000\n",
       "Funded Amount Investor           23381.870560\n",
       "Interest Rate                       10.154635\n",
       "Recoveries                           3.508713\n",
       "Term                                59.000000\n",
       "Total Collection Amount             28.000000\n",
       "Total Received Interest           2513.286450\n",
       "Total Received Late Fee              0.006396\n",
       "Debit to Income                     17.643272\n",
       "Delinquency - two years              0.000000\n",
       "Grade                                1.000000\n",
       "Inquires - six months                0.000000\n",
       "Open Account                        11.000000\n",
       "Public Record                        0.000000\n",
       "Revolving Balance                 2092.000000\n",
       "Revolving Utilities                 35.187991\n",
       "Sub Grade                            8.000000\n",
       "Total Accounts                      17.000000\n",
       "Total Current Balance           152939.000000\n",
       "Total Revolving Credit Limit      1497.000000\n",
       "Employment Duration              55353.465780\n",
       "Last week Pay                       50.000000\n",
       "Home Ownership                       0.000000\n",
       "Initial List Status                  0.000000\n",
       "Loan Title                           3.000000\n",
       "Verification Status                  1.000000\n",
       "Name: 54782, dtype: float64"
      ]
     },
     "execution_count": 91,
     "metadata": {},
     "output_type": "execute_result"
    }
   ],
   "source": [
    "X_train.iloc[0]"
   ]
  },
  {
   "cell_type": "code",
   "execution_count": 92,
   "id": "db286491-50ea-42e6-9917-6caaf4e33dfd",
   "metadata": {},
   "outputs": [],
   "source": [
    "# case3: y_test값이 1(연체)인 X_test"
   ]
  },
  {
   "cell_type": "code",
   "execution_count": 93,
   "id": "0bfcd81e-ea39-4566-b5b2-cdde440004de",
   "metadata": {},
   "outputs": [],
   "source": [
    "y_pred = lgbm_clf.predict(X_test)"
   ]
  },
  {
   "cell_type": "code",
   "execution_count": 94,
   "id": "babe0bcc-dcab-4c29-bec0-81ce166c3124",
   "metadata": {},
   "outputs": [],
   "source": [
    "y_pred = pd.Series(y_pred)"
   ]
  },
  {
   "cell_type": "code",
   "execution_count": 95,
   "id": "d603428f-598e-48ec-9899-81e1edc4350e",
   "metadata": {},
   "outputs": [
    {
     "name": "stdout",
     "output_type": "stream",
     "text": [
      "3\n"
     ]
    }
   ],
   "source": [
    "# 대출 연체자 찾기\n",
    "i = 0\n",
    "while True:\n",
    "    if y_pred.iloc[i] == 1:\n",
    "        print(i)\n",
    "        break\n",
    "    else:\n",
    "        i += 1"
   ]
  },
  {
   "cell_type": "code",
   "execution_count": 96,
   "id": "a0e0ac4f-59bf-4135-88ae-97b35ea21c4f",
   "metadata": {},
   "outputs": [
    {
     "data": {
      "text/plain": [
       "1"
      ]
     },
     "execution_count": 96,
     "metadata": {},
     "output_type": "execute_result"
    }
   ],
   "source": [
    "y_pred.iloc[3]"
   ]
  },
  {
   "cell_type": "code",
   "execution_count": 97,
   "id": "3eae3347-446f-4ed4-a869-afffd14a9f00",
   "metadata": {},
   "outputs": [
    {
     "data": {
      "text/plain": [
       "1"
      ]
     },
     "execution_count": 97,
     "metadata": {},
     "output_type": "execute_result"
    }
   ],
   "source": [
    "y_test.iloc[3]"
   ]
  },
  {
   "cell_type": "code",
   "execution_count": 98,
   "id": "4a800c88-9f84-4c11-8bd4-57add43eae65",
   "metadata": {},
   "outputs": [
    {
     "data": {
      "text/plain": [
       "Collection Recovery Fee             1.186336\n",
       "Funded Amount                   30156.000000\n",
       "Funded Amount Investor          12359.852045\n",
       "Interest Rate                      19.720397\n",
       "Recoveries                          3.215426\n",
       "Term                               59.000000\n",
       "Total Collection Amount            24.000000\n",
       "Total Received Interest           873.644832\n",
       "Total Received Late Fee             0.036519\n",
       "Debit to Income                    16.442115\n",
       "Delinquency - two years             0.000000\n",
       "Grade                               1.000000\n",
       "Inquires - six months               0.000000\n",
       "Open Account                       10.000000\n",
       "Public Record                       0.000000\n",
       "Revolving Balance                3307.000000\n",
       "Revolving Utilities                60.590296\n",
       "Sub Grade                           2.000000\n",
       "Total Accounts                     24.000000\n",
       "Total Current Balance           59838.000000\n",
       "Total Revolving Credit Limit    42179.000000\n",
       "Employment Duration             97911.557271\n",
       "Last week Pay                      54.000000\n",
       "Home Ownership                      1.000000\n",
       "Initial List Status                 1.000000\n",
       "Loan Title                          2.000000\n",
       "Verification Status                 1.000000\n",
       "Name: 93143, dtype: float64"
      ]
     },
     "execution_count": 98,
     "metadata": {},
     "output_type": "execute_result"
    }
   ],
   "source": [
    "X_test.iloc[3]"
   ]
  },
  {
   "cell_type": "code",
   "execution_count": 99,
   "id": "a7f6144e-f5e4-45e5-a6b3-95ec0642ef9f",
   "metadata": {},
   "outputs": [],
   "source": [
    "# case4: y_test값이 0(비연체)인 X_test"
   ]
  },
  {
   "cell_type": "code",
   "execution_count": 100,
   "id": "9a7778de-6dd0-4e76-b8ae-2c55b1030490",
   "metadata": {},
   "outputs": [
    {
     "data": {
      "text/plain": [
       "0"
      ]
     },
     "execution_count": 100,
     "metadata": {},
     "output_type": "execute_result"
    }
   ],
   "source": [
    "y_pred.iloc[0]"
   ]
  },
  {
   "cell_type": "code",
   "execution_count": 101,
   "id": "3ddd9653-d7e1-49e2-a938-a4de4bddcae9",
   "metadata": {},
   "outputs": [
    {
     "data": {
      "text/plain": [
       "0"
      ]
     },
     "execution_count": 101,
     "metadata": {},
     "output_type": "execute_result"
    }
   ],
   "source": [
    "y_test.iloc[0]"
   ]
  },
  {
   "cell_type": "code",
   "execution_count": 102,
   "id": "aaa8ed20-47d8-4350-a176-8c5bf50e92b8",
   "metadata": {},
   "outputs": [
    {
     "data": {
      "text/plain": [
       "Collection Recovery Fee             1.019765\n",
       "Funded Amount                   23617.000000\n",
       "Funded Amount Investor          13260.016360\n",
       "Interest Rate                       7.231365\n",
       "Recoveries                          4.300204\n",
       "Term                               58.000000\n",
       "Total Collection Amount            30.000000\n",
       "Total Received Interest         12570.955060\n",
       "Total Received Late Fee             0.072998\n",
       "Debit to Income                    20.003506\n",
       "Delinquency - two years             0.000000\n",
       "Grade                               2.000000\n",
       "Inquires - six months               0.000000\n",
       "Open Account                       12.000000\n",
       "Public Record                       0.000000\n",
       "Revolving Balance                6814.000000\n",
       "Revolving Utilities                88.980244\n",
       "Sub Grade                          10.000000\n",
       "Total Accounts                     25.000000\n",
       "Total Current Balance           26870.000000\n",
       "Total Revolving Credit Limit     4635.000000\n",
       "Employment Duration             70852.561250\n",
       "Last week Pay                     150.000000\n",
       "Home Ownership                      1.000000\n",
       "Initial List Status                 0.000000\n",
       "Loan Title                          2.000000\n",
       "Verification Status                 0.000000\n",
       "Name: 50148, dtype: float64"
      ]
     },
     "execution_count": 102,
     "metadata": {},
     "output_type": "execute_result"
    }
   ],
   "source": [
    "X_test.iloc[0]"
   ]
  },
  {
   "cell_type": "code",
   "execution_count": 103,
   "id": "b4bf99ef-052a-4e8b-9d5e-018aee224626",
   "metadata": {
    "tags": []
   },
   "outputs": [
    {
     "data": {
      "text/plain": [
       "['Collection Recovery Fee',\n",
       " 'Funded Amount',\n",
       " 'Funded Amount Investor',\n",
       " 'Interest Rate',\n",
       " 'Recoveries',\n",
       " 'Term',\n",
       " 'Total Collection Amount',\n",
       " 'Total Received Interest',\n",
       " 'Total Received Late Fee',\n",
       " 'Debit to Income',\n",
       " 'Delinquency - two years',\n",
       " 'Grade',\n",
       " 'Inquires - six months',\n",
       " 'Open Account',\n",
       " 'Public Record',\n",
       " 'Revolving Balance',\n",
       " 'Revolving Utilities',\n",
       " 'Sub Grade',\n",
       " 'Total Accounts',\n",
       " 'Total Current Balance',\n",
       " 'Total Revolving Credit Limit',\n",
       " 'Employment Duration',\n",
       " 'Last week Pay',\n",
       " 'Home Ownership',\n",
       " 'Initial List Status',\n",
       " 'Loan Title',\n",
       " 'Verification Status']"
      ]
     },
     "execution_count": 103,
     "metadata": {},
     "output_type": "execute_result"
    }
   ],
   "source": [
    "# 여기까지 실행 후 리스트 복사해서 아래 셀 # GUI 위젯 생성에 labels \n",
    "X_train_col_list = list(X_train.columns)\n",
    "X_train_col_list"
   ]
  },
  {
   "cell_type": "code",
   "execution_count": 104,
   "id": "00895622",
   "metadata": {},
   "outputs": [
    {
     "data": {
      "text/plain": [
       "['lgbm_model.pkl']"
      ]
     },
     "execution_count": 104,
     "metadata": {},
     "output_type": "execute_result"
    }
   ],
   "source": [
    "import joblib\n",
    "# 모델 저장\n",
    "joblib.dump(lgbm_clf, 'lgbm_model.pkl')"
   ]
  },
  {
   "cell_type": "code",
   "execution_count": 105,
   "id": "32cc1c47",
   "metadata": {},
   "outputs": [],
   "source": [
    "import joblib\n",
    "\n",
    "# 모델 로드\n",
    "lgbm_clf = joblib.load('lgbm_model.pkl')"
   ]
  },
  {
   "cell_type": "code",
   "execution_count": 106,
   "id": "1fc0fd7b",
   "metadata": {},
   "outputs": [],
   "source": [
    "# tkinter 구현\n",
    "\n",
    "# 필요한 라이브러리 불러오기\n",
    "import tkinter as tk\n",
    "from tkinter import *\n",
    "from tkinter import messagebox\n",
    "\n",
    "# GUI 생성\n",
    "window = Tk()\n",
    "window.title(\"대출 상환 예측\")\n",
    "window.resizable(False, False)\n",
    "\n",
    "# GUI 위젯 생성\n",
    "labels = list(X_train.columns)\n",
    "\n",
    "entries = []\n",
    "\n",
    "for i, label_text in enumerate(labels):\n",
    "    lbl = Label(window, text=label_text)\n",
    "    lbl.grid(row=i, column=0, padx=10, pady=2)\n",
    "    \n",
    "    entry = Entry(window)\n",
    "    entry.grid(row=i, column=1, padx=10, pady=2)\n",
    "    entries.append(entry)\n",
    "\n",
    "result_lbl = Label(window, text=\"\")\n",
    "result_lbl.grid(row=len(labels)+1, column=1, padx=10, pady=2)\n",
    "\n",
    "def predict():\n",
    "    # 입력 데이터 가져오기\n",
    "    input_data = [int(entry.get()) for entry in entries]\n",
    "\n",
    "    # 생존 예측\n",
    "    result = lgbm_clf.predict([input_data])\n",
    "\n",
    "    # 예측 결과 출력\n",
    "    if result == 1:\n",
    "        result_lbl.configure(text=\"결과: 연체!\")\n",
    "    else:\n",
    "        result_lbl.configure(text=\"결과: 비연체!\")\n",
    "        \n",
    "btn = Button(window, text=\"Predict\", command=predict)\n",
    "btn.grid(row=len(labels)+1, column=0, padx=10, pady=10)\n",
    "\n",
    "window.mainloop()\n"
   ]
  }
 ],
 "metadata": {
  "kernelspec": {
   "display_name": "Python 3 (ipykernel)",
   "language": "python",
   "name": "python3"
  },
  "language_info": {
   "codemirror_mode": {
    "name": "ipython",
    "version": 3
   },
   "file_extension": ".py",
   "mimetype": "text/x-python",
   "name": "python",
   "nbconvert_exporter": "python",
   "pygments_lexer": "ipython3",
   "version": "3.10.0"
  }
 },
 "nbformat": 4,
 "nbformat_minor": 5
}
