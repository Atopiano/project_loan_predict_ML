{
 "cells": [
  {
   "cell_type": "markdown",
   "id": "e007c51a-633e-4b05-a6db-c5988820dcce",
   "metadata": {},
   "source": [
    "# XGBoost 라벨인코딩 모든 변수"
   ]
  },
  {
   "cell_type": "code",
   "execution_count": 1,
   "id": "47c18563-ce20-4080-901f-639530ec662a",
   "metadata": {},
   "outputs": [],
   "source": [
    "# 필요한 sklearn import \n",
    "from sklearn.model_selection import train_test_split\n",
    "from sklearn.preprocessing import StandardScaler\n",
    "from sklearn.linear_model import LogisticRegression\n",
    "from sklearn.tree import DecisionTreeClassifier\n",
    "from sklearn.ensemble import RandomForestClassifier"
   ]
  },
  {
   "cell_type": "code",
   "execution_count": 2,
   "id": "1254b727-90a0-4519-8819-3f5acb1e477f",
   "metadata": {},
   "outputs": [],
   "source": [
    "import pandas as pd\n",
    "import numpy as np\n",
    "import matplotlib.pyplot as plt\n",
    "import seaborn as sns\n",
    "import warnings\n",
    "warnings.filterwarnings('ignore')"
   ]
  },
  {
   "cell_type": "code",
   "execution_count": 3,
   "id": "6e8515c8-1767-45d8-a754-698752044e83",
   "metadata": {},
   "outputs": [],
   "source": [
    "# train data set\n",
    "loan_train = pd.read_csv('../label_loan_train.csv')"
   ]
  },
  {
   "cell_type": "code",
   "execution_count": 4,
   "id": "f1b152a1-f6f6-4e70-ae7f-e0f1269f6376",
   "metadata": {},
   "outputs": [
    {
     "name": "stdout",
     "output_type": "stream",
     "text": [
      "<class 'pandas.core.frame.DataFrame'>\n",
      "RangeIndex: 62847 entries, 0 to 62846\n",
      "Data columns (total 32 columns):\n",
      " #   Column                        Non-Null Count  Dtype  \n",
      "---  ------                        --------------  -----  \n",
      " 0   Loan Amount                   62847 non-null  int64  \n",
      " 1   Funded Amount                 62847 non-null  int64  \n",
      " 2   Funded Amount Investor        62847 non-null  float64\n",
      " 3   Term                          62847 non-null  int64  \n",
      " 4   Interest Rate                 62847 non-null  float64\n",
      " 5   Grade                         62847 non-null  int64  \n",
      " 6   Sub Grade                     62847 non-null  int64  \n",
      " 7   Home Ownership                62847 non-null  int64  \n",
      " 8   Employment Duration           62847 non-null  float64\n",
      " 9   Verification Status           62847 non-null  int64  \n",
      " 10  Loan Title                    62847 non-null  int64  \n",
      " 11  Debit to Income               62847 non-null  float64\n",
      " 12  Delinquency - two years       62847 non-null  int64  \n",
      " 13  Inquires - six months         62847 non-null  int64  \n",
      " 14  Open Account                  62847 non-null  int64  \n",
      " 15  Public Record                 62847 non-null  int64  \n",
      " 16  Revolving Balance             62847 non-null  int64  \n",
      " 17  Revolving Utilities           62847 non-null  float64\n",
      " 18  Total Accounts                62847 non-null  int64  \n",
      " 19  Initial List Status           62847 non-null  int64  \n",
      " 20  Total Received Interest       62847 non-null  float64\n",
      " 21  Total Received Late Fee       62847 non-null  float64\n",
      " 22  Recoveries                    62847 non-null  float64\n",
      " 23  Collection Recovery Fee       62847 non-null  float64\n",
      " 24  Collection 12 months Medical  62847 non-null  int64  \n",
      " 25  Application Type              62847 non-null  int64  \n",
      " 26  Last week Pay                 62847 non-null  int64  \n",
      " 27  Accounts Delinquent           62847 non-null  int64  \n",
      " 28  Total Collection Amount       62847 non-null  int64  \n",
      " 29  Total Current Balance         62847 non-null  int64  \n",
      " 30  Total Revolving Credit Limit  62847 non-null  int64  \n",
      " 31  Loan Status                   62847 non-null  int64  \n",
      "dtypes: float64(9), int64(23)\n",
      "memory usage: 15.3 MB\n"
     ]
    }
   ],
   "source": [
    "# train data set의 컬럼 확인 \n",
    "loan_train.info()"
   ]
  },
  {
   "cell_type": "code",
   "execution_count": 5,
   "id": "39e38d5f-7fd4-41c4-ad04-76b480c2d89c",
   "metadata": {},
   "outputs": [],
   "source": [
    "# 독립변수와 종속변수 선택하기\n",
    "X = loan_train.drop(\"Loan Status\", axis = 1)\n",
    "y = loan_train[\"Loan Status\"]"
   ]
  },
  {
   "cell_type": "code",
   "execution_count": 6,
   "id": "29dae4ab-05b3-4b58-91f4-79fed4a9b194",
   "metadata": {},
   "outputs": [
    {
     "name": "stdout",
     "output_type": "stream",
     "text": [
      "The number of classes before fit Counter({0: 61222, 1: 1625})\n",
      "The number of classes after fit Counter({0: 61196, 1: 61196})\n"
     ]
    }
   ],
   "source": [
    "# 타겟의 비대칭 데이터 문제를 해결하기 위하여 SMOTETomek를 사용\n",
    "\n",
    "#데이터 클래스 비율이 너무 차이가 나면(highly-imbalanced data) \n",
    "#단순히 우세한 클래스를 택하는 모형의 정확도가 높아지므로 모형의 성능판별이 어려워진다. \n",
    "#즉, 정확도(accuracy)가 높아도 데이터 갯수가 적은 클래스의 재현율(recall-rate)이 급격히 작아지는 현상이 발생할 수 있다.\n",
    "\n",
    "from imblearn.combine import SMOTETomek\n",
    "from collections import Counter\n",
    "Counter(y)\n",
    "\n",
    "os=SMOTETomek(sampling_strategy='auto',random_state = 20)\n",
    "X_train_ns,y_train_ns=os.fit_resample(X,y)\n",
    "print(\"The number of classes before fit {}\".format(Counter(y)))\n",
    "print(\"The number of classes after fit {}\".format(Counter(y_train_ns)))"
   ]
  },
  {
   "cell_type": "code",
   "execution_count": 7,
   "id": "ba89bdde-c788-4028-a8a8-eb22cc5fb6d9",
   "metadata": {},
   "outputs": [
    {
     "data": {
      "text/plain": [
       "(0    0.5\n",
       " 1    0.5\n",
       " Name: Loan Status, dtype: float64,\n",
       " 0    0.5\n",
       " 1    0.5\n",
       " Name: Loan Status, dtype: float64)"
      ]
     },
     "execution_count": 7,
     "metadata": {},
     "output_type": "execute_result"
    }
   ],
   "source": [
    "# 데이터 셋 분할\n",
    "from sklearn.model_selection import train_test_split\n",
    "X_train, X_test, y_train, y_test = train_test_split(X_train_ns, y_train_ns, test_size = 0.25, random_state = 20, stratify = y_train_ns)\n",
    "y_train_ns.value_counts(True), y_test.value_counts(True)"
   ]
  },
  {
   "cell_type": "markdown",
   "id": "c545a550-63f4-4477-abdf-2656298e3d83",
   "metadata": {},
   "source": [
    "## XGBoost 예측 및 시행"
   ]
  },
  {
   "cell_type": "code",
   "execution_count": 8,
   "id": "d6c9cf96-32a3-43e0-b1fc-7c88df660803",
   "metadata": {
    "scrolled": true,
    "tags": []
   },
   "outputs": [
    {
     "name": "stdout",
     "output_type": "stream",
     "text": [
      "[0]\tvalidation_0-logloss:0.58787\n",
      "[1]\tvalidation_0-logloss:0.52124\n",
      "[2]\tvalidation_0-logloss:0.47697\n",
      "[3]\tvalidation_0-logloss:0.44176\n",
      "[4]\tvalidation_0-logloss:0.41259\n",
      "[5]\tvalidation_0-logloss:0.39155\n",
      "[6]\tvalidation_0-logloss:0.37223\n",
      "[7]\tvalidation_0-logloss:0.35646\n",
      "[8]\tvalidation_0-logloss:0.34258\n",
      "[9]\tvalidation_0-logloss:0.32918\n",
      "[10]\tvalidation_0-logloss:0.32000\n",
      "[11]\tvalidation_0-logloss:0.31036\n",
      "[12]\tvalidation_0-logloss:0.30273\n",
      "[13]\tvalidation_0-logloss:0.29396\n",
      "[14]\tvalidation_0-logloss:0.28597\n",
      "[15]\tvalidation_0-logloss:0.27781\n",
      "[16]\tvalidation_0-logloss:0.27171\n",
      "[17]\tvalidation_0-logloss:0.26251\n",
      "[18]\tvalidation_0-logloss:0.25730\n",
      "[19]\tvalidation_0-logloss:0.25367\n",
      "[20]\tvalidation_0-logloss:0.24848\n",
      "[21]\tvalidation_0-logloss:0.24444\n",
      "[22]\tvalidation_0-logloss:0.24081\n",
      "[23]\tvalidation_0-logloss:0.23716\n",
      "[24]\tvalidation_0-logloss:0.23277\n",
      "[25]\tvalidation_0-logloss:0.23054\n",
      "[26]\tvalidation_0-logloss:0.22648\n",
      "[27]\tvalidation_0-logloss:0.22164\n",
      "[28]\tvalidation_0-logloss:0.21970\n",
      "[29]\tvalidation_0-logloss:0.21771\n",
      "[30]\tvalidation_0-logloss:0.21567\n",
      "[31]\tvalidation_0-logloss:0.21389\n",
      "[32]\tvalidation_0-logloss:0.21100\n",
      "[33]\tvalidation_0-logloss:0.20865\n",
      "[34]\tvalidation_0-logloss:0.20615\n",
      "[35]\tvalidation_0-logloss:0.20497\n",
      "[36]\tvalidation_0-logloss:0.20221\n",
      "[37]\tvalidation_0-logloss:0.20129\n",
      "[38]\tvalidation_0-logloss:0.19975\n",
      "[39]\tvalidation_0-logloss:0.19870\n",
      "[40]\tvalidation_0-logloss:0.19761\n",
      "[41]\tvalidation_0-logloss:0.19606\n",
      "[42]\tvalidation_0-logloss:0.19416\n",
      "[43]\tvalidation_0-logloss:0.19263\n",
      "[44]\tvalidation_0-logloss:0.19074\n",
      "[45]\tvalidation_0-logloss:0.18993\n",
      "[46]\tvalidation_0-logloss:0.18738\n",
      "[47]\tvalidation_0-logloss:0.18522\n",
      "[48]\tvalidation_0-logloss:0.18453\n",
      "[49]\tvalidation_0-logloss:0.18399\n",
      "[50]\tvalidation_0-logloss:0.18255\n",
      "[51]\tvalidation_0-logloss:0.18192\n",
      "[52]\tvalidation_0-logloss:0.18144\n",
      "[53]\tvalidation_0-logloss:0.17967\n",
      "[54]\tvalidation_0-logloss:0.17857\n",
      "[55]\tvalidation_0-logloss:0.17800\n",
      "[56]\tvalidation_0-logloss:0.17695\n",
      "[57]\tvalidation_0-logloss:0.17646\n",
      "[58]\tvalidation_0-logloss:0.17507\n",
      "[59]\tvalidation_0-logloss:0.17381\n",
      "[60]\tvalidation_0-logloss:0.17353\n",
      "[61]\tvalidation_0-logloss:0.17325\n",
      "[62]\tvalidation_0-logloss:0.17248\n",
      "[63]\tvalidation_0-logloss:0.17115\n",
      "[64]\tvalidation_0-logloss:0.16938\n",
      "[65]\tvalidation_0-logloss:0.16899\n",
      "[66]\tvalidation_0-logloss:0.16823\n",
      "[67]\tvalidation_0-logloss:0.16632\n",
      "[68]\tvalidation_0-logloss:0.16591\n",
      "[69]\tvalidation_0-logloss:0.16563\n",
      "[70]\tvalidation_0-logloss:0.16541\n",
      "[71]\tvalidation_0-logloss:0.16513\n",
      "[72]\tvalidation_0-logloss:0.16476\n",
      "[73]\tvalidation_0-logloss:0.16406\n",
      "[74]\tvalidation_0-logloss:0.16217\n",
      "[75]\tvalidation_0-logloss:0.16166\n",
      "[76]\tvalidation_0-logloss:0.16147\n",
      "[77]\tvalidation_0-logloss:0.15975\n",
      "[78]\tvalidation_0-logloss:0.15886\n",
      "[79]\tvalidation_0-logloss:0.15863\n",
      "[80]\tvalidation_0-logloss:0.15849\n",
      "[81]\tvalidation_0-logloss:0.15815\n",
      "[82]\tvalidation_0-logloss:0.15803\n",
      "[83]\tvalidation_0-logloss:0.15764\n",
      "[84]\tvalidation_0-logloss:0.15720\n",
      "[85]\tvalidation_0-logloss:0.15647\n",
      "[86]\tvalidation_0-logloss:0.15541\n",
      "[87]\tvalidation_0-logloss:0.15506\n",
      "[88]\tvalidation_0-logloss:0.15500\n",
      "[89]\tvalidation_0-logloss:0.15411\n",
      "[90]\tvalidation_0-logloss:0.15285\n",
      "[91]\tvalidation_0-logloss:0.15199\n",
      "[92]\tvalidation_0-logloss:0.15097\n",
      "[93]\tvalidation_0-logloss:0.14935\n",
      "[94]\tvalidation_0-logloss:0.14831\n",
      "[95]\tvalidation_0-logloss:0.14677\n",
      "[96]\tvalidation_0-logloss:0.14669\n",
      "[97]\tvalidation_0-logloss:0.14661\n",
      "[98]\tvalidation_0-logloss:0.14631\n",
      "[99]\tvalidation_0-logloss:0.14622\n"
     ]
    },
    {
     "data": {
      "text/html": [
       "<style>#sk-container-id-1 {color: black;background-color: white;}#sk-container-id-1 pre{padding: 0;}#sk-container-id-1 div.sk-toggleable {background-color: white;}#sk-container-id-1 label.sk-toggleable__label {cursor: pointer;display: block;width: 100%;margin-bottom: 0;padding: 0.3em;box-sizing: border-box;text-align: center;}#sk-container-id-1 label.sk-toggleable__label-arrow:before {content: \"▸\";float: left;margin-right: 0.25em;color: #696969;}#sk-container-id-1 label.sk-toggleable__label-arrow:hover:before {color: black;}#sk-container-id-1 div.sk-estimator:hover label.sk-toggleable__label-arrow:before {color: black;}#sk-container-id-1 div.sk-toggleable__content {max-height: 0;max-width: 0;overflow: hidden;text-align: left;background-color: #f0f8ff;}#sk-container-id-1 div.sk-toggleable__content pre {margin: 0.2em;color: black;border-radius: 0.25em;background-color: #f0f8ff;}#sk-container-id-1 input.sk-toggleable__control:checked~div.sk-toggleable__content {max-height: 200px;max-width: 100%;overflow: auto;}#sk-container-id-1 input.sk-toggleable__control:checked~label.sk-toggleable__label-arrow:before {content: \"▾\";}#sk-container-id-1 div.sk-estimator input.sk-toggleable__control:checked~label.sk-toggleable__label {background-color: #d4ebff;}#sk-container-id-1 div.sk-label input.sk-toggleable__control:checked~label.sk-toggleable__label {background-color: #d4ebff;}#sk-container-id-1 input.sk-hidden--visually {border: 0;clip: rect(1px 1px 1px 1px);clip: rect(1px, 1px, 1px, 1px);height: 1px;margin: -1px;overflow: hidden;padding: 0;position: absolute;width: 1px;}#sk-container-id-1 div.sk-estimator {font-family: monospace;background-color: #f0f8ff;border: 1px dotted black;border-radius: 0.25em;box-sizing: border-box;margin-bottom: 0.5em;}#sk-container-id-1 div.sk-estimator:hover {background-color: #d4ebff;}#sk-container-id-1 div.sk-parallel-item::after {content: \"\";width: 100%;border-bottom: 1px solid gray;flex-grow: 1;}#sk-container-id-1 div.sk-label:hover label.sk-toggleable__label {background-color: #d4ebff;}#sk-container-id-1 div.sk-serial::before {content: \"\";position: absolute;border-left: 1px solid gray;box-sizing: border-box;top: 0;bottom: 0;left: 50%;z-index: 0;}#sk-container-id-1 div.sk-serial {display: flex;flex-direction: column;align-items: center;background-color: white;padding-right: 0.2em;padding-left: 0.2em;position: relative;}#sk-container-id-1 div.sk-item {position: relative;z-index: 1;}#sk-container-id-1 div.sk-parallel {display: flex;align-items: stretch;justify-content: center;background-color: white;position: relative;}#sk-container-id-1 div.sk-item::before, #sk-container-id-1 div.sk-parallel-item::before {content: \"\";position: absolute;border-left: 1px solid gray;box-sizing: border-box;top: 0;bottom: 0;left: 50%;z-index: -1;}#sk-container-id-1 div.sk-parallel-item {display: flex;flex-direction: column;z-index: 1;position: relative;background-color: white;}#sk-container-id-1 div.sk-parallel-item:first-child::after {align-self: flex-end;width: 50%;}#sk-container-id-1 div.sk-parallel-item:last-child::after {align-self: flex-start;width: 50%;}#sk-container-id-1 div.sk-parallel-item:only-child::after {width: 0;}#sk-container-id-1 div.sk-dashed-wrapped {border: 1px dashed gray;margin: 0 0.4em 0.5em 0.4em;box-sizing: border-box;padding-bottom: 0.4em;background-color: white;}#sk-container-id-1 div.sk-label label {font-family: monospace;font-weight: bold;display: inline-block;line-height: 1.2em;}#sk-container-id-1 div.sk-label-container {text-align: center;}#sk-container-id-1 div.sk-container {/* jupyter's `normalize.less` sets `[hidden] { display: none; }` but bootstrap.min.css set `[hidden] { display: none !important; }` so we also need the `!important` here to be able to override the default hidden behavior on the sphinx rendered scikit-learn.org. See: https://github.com/scikit-learn/scikit-learn/issues/21755 */display: inline-block !important;position: relative;}#sk-container-id-1 div.sk-text-repr-fallback {display: none;}</style><div id=\"sk-container-id-1\" class=\"sk-top-container\"><div class=\"sk-text-repr-fallback\"><pre>XGBClassifier(base_score=None, booster=None, callbacks=None,\n",
       "              colsample_bylevel=None, colsample_bynode=None,\n",
       "              colsample_bytree=None, early_stopping_rounds=None,\n",
       "              enable_categorical=False, eval_metric=None, feature_types=None,\n",
       "              gamma=None, gpu_id=None, grow_policy=None, importance_type=None,\n",
       "              interaction_constraints=None, learning_rate=None, max_bin=None,\n",
       "              max_cat_threshold=None, max_cat_to_onehot=None,\n",
       "              max_delta_step=None, max_depth=None, max_leaves=None,\n",
       "              min_child_weight=None, missing=nan, monotone_constraints=None,\n",
       "              n_estimators=100, n_jobs=None, num_parallel_tree=None,\n",
       "              predictor=None, random_state=20, ...)</pre><b>In a Jupyter environment, please rerun this cell to show the HTML representation or trust the notebook. <br />On GitHub, the HTML representation is unable to render, please try loading this page with nbviewer.org.</b></div><div class=\"sk-container\" hidden><div class=\"sk-item\"><div class=\"sk-estimator sk-toggleable\"><input class=\"sk-toggleable__control sk-hidden--visually\" id=\"sk-estimator-id-1\" type=\"checkbox\" checked><label for=\"sk-estimator-id-1\" class=\"sk-toggleable__label sk-toggleable__label-arrow\">XGBClassifier</label><div class=\"sk-toggleable__content\"><pre>XGBClassifier(base_score=None, booster=None, callbacks=None,\n",
       "              colsample_bylevel=None, colsample_bynode=None,\n",
       "              colsample_bytree=None, early_stopping_rounds=None,\n",
       "              enable_categorical=False, eval_metric=None, feature_types=None,\n",
       "              gamma=None, gpu_id=None, grow_policy=None, importance_type=None,\n",
       "              interaction_constraints=None, learning_rate=None, max_bin=None,\n",
       "              max_cat_threshold=None, max_cat_to_onehot=None,\n",
       "              max_delta_step=None, max_depth=None, max_leaves=None,\n",
       "              min_child_weight=None, missing=nan, monotone_constraints=None,\n",
       "              n_estimators=100, n_jobs=None, num_parallel_tree=None,\n",
       "              predictor=None, random_state=20, ...)</pre></div></div></div></div></div>"
      ],
      "text/plain": [
       "XGBClassifier(base_score=None, booster=None, callbacks=None,\n",
       "              colsample_bylevel=None, colsample_bynode=None,\n",
       "              colsample_bytree=None, early_stopping_rounds=None,\n",
       "              enable_categorical=False, eval_metric=None, feature_types=None,\n",
       "              gamma=None, gpu_id=None, grow_policy=None, importance_type=None,\n",
       "              interaction_constraints=None, learning_rate=None, max_bin=None,\n",
       "              max_cat_threshold=None, max_cat_to_onehot=None,\n",
       "              max_delta_step=None, max_depth=None, max_leaves=None,\n",
       "              min_child_weight=None, missing=nan, monotone_constraints=None,\n",
       "              n_estimators=100, n_jobs=None, num_parallel_tree=None,\n",
       "              predictor=None, random_state=20, ...)"
      ]
     },
     "execution_count": 8,
     "metadata": {},
     "output_type": "execute_result"
    }
   ],
   "source": [
    "from xgboost import XGBClassifier\n",
    "\n",
    "xgb = XGBClassifier( random_state = 20)\n",
    "xgb.fit(X_train, y_train, eval_metric = \"logloss\",eval_set = [(X_test, y_test)],  verbose = True)"
   ]
  },
  {
   "cell_type": "code",
   "execution_count": 9,
   "id": "b4820bd7-5704-4666-9bd6-4da289ef2b1e",
   "metadata": {},
   "outputs": [],
   "source": [
    "\n",
    "def get_eval_score(y_test, y_pred, y_pred_proba):\n",
    "    from sklearn.metrics import f1_score, roc_auc_score, confusion_matrix,accuracy_score, precision_score, recall_score\n",
    "    confusion = confusion_matrix(y_test, y_pred)\n",
    "    acc = accuracy_score(y_test, y_pred)\n",
    "    prec = precision_score(y_test, y_pred)\n",
    "    recall = recall_score(y_test, y_pred)\n",
    "    f1 = f1_score(y_test, y_pred)\n",
    "    roc_auc = roc_auc_score(y_test, y_pred_proba)\n",
    "    \n",
    "    print(\"-\"* 100)\n",
    "    print(\"오차행렬:\")\n",
    "    print(confusion)\n",
    "    print(\"정확도: {:.7f} 정밀도: {:.7f} 재현율: {:.7f} F1:{:.7f} AUC: {:.7f}\".\\\n",
    "          format(acc, prec,recall, f1, roc_auc ))\n",
    "    return\n"
   ]
  },
  {
   "cell_type": "code",
   "execution_count": 10,
   "id": "67155224-05a7-4514-bfdc-be5fb8eb4115",
   "metadata": {},
   "outputs": [
    {
     "name": "stdout",
     "output_type": "stream",
     "text": [
      "----------------------------------------------------------------------------------------------------\n",
      "오차행렬:\n",
      "[[42919  2978]\n",
      " [  447 45450]]\n",
      "정확도: 0.9626882 정밀도: 0.9385066 재현율: 0.9902608 F1:0.9636894 AUC: 0.9933230\n",
      "----------------------------------------------------------------------------------------------------\n",
      "오차행렬:\n",
      "[[13931  1368]\n",
      " [  278 15021]]\n",
      "정확도: 0.9462056 정밀도: 0.9165294 재현율: 0.9818289 F1:0.9480560 AUC: 0.9863311\n"
     ]
    }
   ],
   "source": [
    "get_eval_score(y_train, xgb.predict(X_train), xgb.predict_proba(X_train)[:,1])\n",
    "get_eval_score(y_test, xgb.predict(X_test), xgb.predict_proba(X_test)[:,1])"
   ]
  }
 ],
 "metadata": {
  "kernelspec": {
   "display_name": "Python 3",
   "language": "python",
   "name": "python3"
  },
  "language_info": {
   "codemirror_mode": {
    "name": "ipython",
    "version": 3
   },
   "file_extension": ".py",
   "mimetype": "text/x-python",
   "name": "python",
   "nbconvert_exporter": "python",
   "pygments_lexer": "ipython3",
   "version": "3.8.8"
  }
 },
 "nbformat": 4,
 "nbformat_minor": 5
}
