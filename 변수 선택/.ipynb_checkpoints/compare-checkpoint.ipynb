{
 "cells": [
  {
   "cell_type": "markdown",
   "id": "e0a0f6a8-ad9c-4ebc-afda-53a6d7f0b038",
   "metadata": {},
   "source": [
    "# 변수 선택 전과 후 비교"
   ]
  },
  {
   "cell_type": "code",
   "execution_count": 97,
   "id": "846d6fb5-b44a-4102-bae7-6a18997e32ac",
   "metadata": {},
   "outputs": [],
   "source": [
    "import matplotlib.pyplot as plt\n",
    "import seaborn as sns"
   ]
  },
  {
   "cell_type": "code",
   "execution_count": 120,
   "id": "de73f73e-6785-42ca-8232-e60c34db55a2",
   "metadata": {},
   "outputs": [
    {
     "data": {
      "text/html": [
       "<div>\n",
       "<style scoped>\n",
       "    .dataframe tbody tr th:only-of-type {\n",
       "        vertical-align: middle;\n",
       "    }\n",
       "\n",
       "    .dataframe tbody tr th {\n",
       "        vertical-align: top;\n",
       "    }\n",
       "\n",
       "    .dataframe thead th {\n",
       "        text-align: right;\n",
       "    }\n",
       "</style>\n",
       "<table border=\"1\" class=\"dataframe\">\n",
       "  <thead>\n",
       "    <tr style=\"text-align: right;\">\n",
       "      <th></th>\n",
       "      <th>All Features</th>\n",
       "      <th>Selected Features</th>\n",
       "    </tr>\n",
       "    <tr>\n",
       "      <th>Metric</th>\n",
       "      <th></th>\n",
       "      <th></th>\n",
       "    </tr>\n",
       "  </thead>\n",
       "  <tbody>\n",
       "    <tr>\n",
       "      <th>Accuracy</th>\n",
       "      <td>0.961631</td>\n",
       "      <td>0.973626</td>\n",
       "    </tr>\n",
       "    <tr>\n",
       "      <th>Precision</th>\n",
       "      <td>0.937063</td>\n",
       "      <td>0.952932</td>\n",
       "    </tr>\n",
       "    <tr>\n",
       "      <th>Recall</th>\n",
       "      <td>0.989738</td>\n",
       "      <td>0.996470</td>\n",
       "    </tr>\n",
       "    <tr>\n",
       "      <th>F1 Score</th>\n",
       "      <td>0.962680</td>\n",
       "      <td>0.974215</td>\n",
       "    </tr>\n",
       "    <tr>\n",
       "      <th>ROC-AUC</th>\n",
       "      <td>0.993547</td>\n",
       "      <td>0.997481</td>\n",
       "    </tr>\n",
       "  </tbody>\n",
       "</table>\n",
       "</div>"
      ],
      "text/plain": [
       "           All Features  Selected Features\n",
       "Metric                                    \n",
       "Accuracy       0.961631           0.973626\n",
       "Precision      0.937063           0.952932\n",
       "Recall         0.989738           0.996470\n",
       "F1 Score       0.962680           0.974215\n",
       "ROC-AUC        0.993547           0.997481"
      ]
     },
     "execution_count": 120,
     "metadata": {},
     "output_type": "execute_result"
    }
   ],
   "source": [
    "import pandas as pd\n",
    "\n",
    "data = {\n",
    "    'Metric': ['Accuracy', 'Precision', 'Recall', 'F1 Score', 'ROC-AUC'],\n",
    "    'All Features': [0.9616315, 0.9370629, 0.9897379, 0.9626804, 0.9935473],\n",
    "    'Selected Features': [0.9736257, 0.9529316, 0.9964704, 0.9742148, 0.9974812]\n",
    "}\n",
    "\n",
    "df = pd.DataFrame(data, index = [\"Acc\", \"Pre\", \"Re\",\"F1\", \"AUC\"])\n",
    "df.reset_index\n",
    "df = df.set_index(\"Metric\")\n",
    "df"
   ]
  },
  {
   "cell_type": "markdown",
   "id": "45a4f69f-6751-4cbf-8e45-6ea900941571",
   "metadata": {},
   "source": [
    "모든 변수 "
   ]
  }
 ],
 "metadata": {
  "kernelspec": {
   "display_name": "Python 3",
   "language": "python",
   "name": "python3"
  },
  "language_info": {
   "codemirror_mode": {
    "name": "ipython",
    "version": 3
   },
   "file_extension": ".py",
   "mimetype": "text/x-python",
   "name": "python",
   "nbconvert_exporter": "python",
   "pygments_lexer": "ipython3",
   "version": "3.8.8"
  }
 },
 "nbformat": 4,
 "nbformat_minor": 5
}
