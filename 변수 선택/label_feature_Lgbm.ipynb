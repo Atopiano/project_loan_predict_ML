{
 "cells": [
  {
   "cell_type": "markdown",
   "id": "323c4ff7-c504-4e10-8fd9-68c2b23bb2ab",
   "metadata": {},
   "source": [
    "# LGBM 라벨인코딩 변수선택"
   ]
  },
  {
   "cell_type": "code",
   "execution_count": 69,
   "id": "d7475f41-e4f7-43cb-9594-a9a7446dfe95",
   "metadata": {},
   "outputs": [],
   "source": [
    "# 필요한 sklearn import \n",
    "from sklearn.model_selection import train_test_split\n",
    "from sklearn.preprocessing import StandardScaler\n",
    "from sklearn.linear_model import LogisticRegression\n",
    "from sklearn.tree import DecisionTreeClassifier\n",
    "from sklearn.ensemble import RandomForestClassifier\n",
    "from xgboost import XGBClassifier\n",
    "from lightgbm import LGBMClassifier\n"
   ]
  },
  {
   "cell_type": "code",
   "execution_count": 70,
   "id": "50eedad9-3886-4631-b9d8-4e19c586d3a9",
   "metadata": {},
   "outputs": [],
   "source": [
    "import pandas as pd\n",
    "import numpy as np\n",
    "import matplotlib.pyplot as plt\n",
    "import seaborn as sns\n",
    "import warnings\n",
    "warnings.filterwarnings('ignore')"
   ]
  },
  {
   "cell_type": "code",
   "execution_count": 71,
   "id": "b8866af3-6826-4020-b8c9-481fea5866dd",
   "metadata": {},
   "outputs": [],
   "source": [
    "# train data set\n",
    "loan_train = pd.read_csv('../label_loan_train.csv')"
   ]
  },
  {
   "cell_type": "code",
   "execution_count": 72,
   "id": "87d53dd1-517a-4914-ace0-6e9b579dfab0",
   "metadata": {},
   "outputs": [
    {
     "data": {
      "text/plain": [
       "Index(['Loan Amount', 'Funded Amount', 'Funded Amount Investor', 'Term',\n",
       "       'Interest Rate', 'Grade', 'Sub Grade', 'Home Ownership',\n",
       "       'Employment Duration', 'Verification Status', 'Loan Title',\n",
       "       'Debit to Income', 'Delinquency - two years', 'Inquires - six months',\n",
       "       'Open Account', 'Public Record', 'Revolving Balance',\n",
       "       'Revolving Utilities', 'Total Accounts', 'Initial List Status',\n",
       "       'Total Received Interest', 'Total Received Late Fee', 'Recoveries',\n",
       "       'Collection Recovery Fee', 'Collection 12 months Medical',\n",
       "       'Application Type', 'Last week Pay', 'Accounts Delinquent',\n",
       "       'Total Collection Amount', 'Total Current Balance',\n",
       "       'Total Revolving Credit Limit', 'Loan Status'],\n",
       "      dtype='object')"
      ]
     },
     "execution_count": 72,
     "metadata": {},
     "output_type": "execute_result"
    }
   ],
   "source": [
    "# train data set의 컬럼 확인 \n",
    "loan_train.columns"
   ]
  },
  {
   "cell_type": "code",
   "execution_count": 73,
   "id": "8c797ca2-01ea-4f31-916d-f516f1818be6",
   "metadata": {},
   "outputs": [],
   "source": [
    "# 컬럼간의 상관관계 확인\n",
    "# plt.figure(figsize = (14, 14))\n",
    "# sns.heatmap(loan_train.corr(), annot = True, annot_kws={\"size\": 5})\n",
    "# plt.savefig('corr.png');"
   ]
  },
  {
   "cell_type": "markdown",
   "id": "9c456454-9276-433d-a15f-e941f670e907",
   "metadata": {},
   "source": [
    "**object의 컬럼을 label encoding 할 필요성이 있어 보임  \n",
    "null 값이 하나도 없음**"
   ]
  },
  {
   "cell_type": "code",
   "execution_count": 74,
   "id": "939c2f19-4197-4257-a93a-5f473009795f",
   "metadata": {},
   "outputs": [],
   "source": [
    "X = loan_train.drop(\"Loan Status\", axis = 1)\n",
    "y = loan_train[\"Loan Status\"]"
   ]
  },
  {
   "cell_type": "code",
   "execution_count": 75,
   "id": "176b1af7-5146-4ac1-8646-63599a80c44f",
   "metadata": {},
   "outputs": [
    {
     "name": "stdout",
     "output_type": "stream",
     "text": [
      "The number of classes before fit Counter({0: 61222, 1: 1625})\n",
      "The number of classes after fit Counter({0: 61196, 1: 61196})\n"
     ]
    }
   ],
   "source": [
    "# 타겟의 비대칭 데이터 문제를 해결하기 위하여 SMOTETomek를 사용\n",
    "\n",
    "#데이터 클래스 비율이 너무 차이가 나면(highly-imbalanced data) \n",
    "#단순히 우세한 클래스를 택하는 모형의 정확도가 높아지므로 모형의 성능판별이 어려워진다. \n",
    "#즉, 정확도(accuracy)가 높아도 데이터 갯수가 적은 클래스의 재현율(recall-rate)이 급격히 작아지는 현상이 발생할 수 있다.\n",
    "\n",
    "from imblearn.combine import SMOTETomek\n",
    "from collections import Counter\n",
    "Counter(y)\n",
    "\n",
    "os=SMOTETomek(sampling_strategy='auto', random_state = 20)\n",
    "X_train_ns,y_train_ns=os.fit_resample(X,y)\n",
    "print(\"The number of classes before fit {}\".format(Counter(y)))\n",
    "print(\"The number of classes after fit {}\".format(Counter(y_train_ns)))"
   ]
  },
  {
   "cell_type": "code",
   "execution_count": 76,
   "id": "7c423f5f-c6f3-45de-9e44-1611b7d5f38a",
   "metadata": {},
   "outputs": [
    {
     "data": {
      "text/plain": [
       "31"
      ]
     },
     "execution_count": 76,
     "metadata": {},
     "output_type": "execute_result"
    }
   ],
   "source": [
    "# 데이터 셋 분할\n",
    "from sklearn.model_selection import train_test_split\n",
    "X_train, X_test, y_train, y_test = train_test_split(X_train_ns, y_train_ns, test_size = 0.25, random_state = 20, stratify = y_train_ns)\n",
    "y_train_ns.value_counts(True), y_test.value_counts(True)\n",
    "len(X_train.columns)"
   ]
  },
  {
   "cell_type": "markdown",
   "id": "7a85e40c-b565-47af-954f-db307d3bada2",
   "metadata": {},
   "source": [
    "# SelectFromModel 사용"
   ]
  },
  {
   "cell_type": "code",
   "execution_count": 77,
   "id": "3ef9aa01-1a3a-4dba-814e-5ce611b84270",
   "metadata": {},
   "outputs": [],
   "source": [
    "from sklearn.feature_selection import SelectFromModel\n",
    "\n",
    "f_select = SelectFromModel(LGBMClassifier(random_state = 20),  max_features = 31)\n",
    "f_select.fit(X_train, y_train)\n",
    "f_scores = pd.DataFrame()"
   ]
  },
  {
   "cell_type": "code",
   "execution_count": 78,
   "id": "ff6dfb51-cc57-4dba-a350-31a9c9c53f17",
   "metadata": {},
   "outputs": [
    {
     "data": {
      "text/plain": [
       "array(['Funded Amount', 'Funded Amount Investor', 'Interest Rate',\n",
       "       'Employment Duration', 'Loan Title', 'Debit to Income',\n",
       "       'Open Account', 'Revolving Balance', 'Revolving Utilities',\n",
       "       'Total Accounts', 'Total Received Interest',\n",
       "       'Total Received Late Fee', 'Recoveries', 'Collection Recovery Fee',\n",
       "       'Last week Pay', 'Total Collection Amount',\n",
       "       'Total Current Balance', 'Total Revolving Credit Limit'],\n",
       "      dtype=object)"
      ]
     },
     "execution_count": 78,
     "metadata": {},
     "output_type": "execute_result"
    }
   ],
   "source": [
    "f_scores['attribute'] = X_train.columns\n",
    "f_scores['support'] = f_select.get_support()\n",
    "from_model = f_scores[f_scores['support'] == True][\"attribute\"].values\n",
    "from_model"
   ]
  },
  {
   "cell_type": "markdown",
   "id": "2284ca96-d1b0-4f66-bc97-f2267399d29c",
   "metadata": {},
   "source": [
    "# SelectKBest 사용"
   ]
  },
  {
   "cell_type": "code",
   "execution_count": 79,
   "id": "25f9f067-4dec-4622-b924-38442daf8452",
   "metadata": {},
   "outputs": [],
   "source": [
    "kbest = ['Delinquency - two years', 'Open Account', 'Total Received Interest',\n",
    "       'Home Ownership', 'Loan Title', 'Revolving Balance',\n",
    "       'Verification Status', 'Initial List Status', 'Total Collection Amount',\n",
    "       'Total Received Late Fee', 'Funded Amount Investor',\n",
    "       'Employment Duration', 'Total Revolving Credit Limit',\n",
    "       'Inquires - six months', 'Term', 'Recoveries', 'Total Current Balance',\n",
    "       'Public Record', 'Grade', 'Funded Amount', 'Last week Pay',\n",
    "       'Debit to Income', 'Interest Rate', 'Collection Recovery Fee',\n",
    "       'Sub Grade', 'Total Accounts', 'Revolving Utilities']"
   ]
  },
  {
   "cell_type": "code",
   "execution_count": 80,
   "id": "53b55eba-c20e-48d9-b16f-58107b81940d",
   "metadata": {
    "tags": []
   },
   "outputs": [
    {
     "data": {
      "text/plain": [
       "27"
      ]
     },
     "execution_count": 80,
     "metadata": {},
     "output_type": "execute_result"
    }
   ],
   "source": [
    "select = list(set(kbest).union(set(from_model)))\n",
    "len(select)"
   ]
  },
  {
   "cell_type": "code",
   "execution_count": null,
   "id": "3c212aa3-83ad-4ed0-a063-5f0943c9ff9d",
   "metadata": {},
   "outputs": [],
   "source": []
  },
  {
   "cell_type": "code",
   "execution_count": 81,
   "id": "7838400f-4088-4e0e-a073-43998a98c3cf",
   "metadata": {},
   "outputs": [],
   "source": [
    "X = X_train_ns[select]\n",
    "y = y_train_ns"
   ]
  },
  {
   "cell_type": "code",
   "execution_count": 82,
   "id": "d0a1e2db-23b9-46c6-8761-1681eed97952",
   "metadata": {},
   "outputs": [
    {
     "data": {
      "text/plain": [
       "(0    0.5\n",
       " 1    0.5\n",
       " Name: Loan Status, dtype: float64,\n",
       " 0    0.5\n",
       " 1    0.5\n",
       " Name: Loan Status, dtype: float64)"
      ]
     },
     "execution_count": 82,
     "metadata": {},
     "output_type": "execute_result"
    }
   ],
   "source": [
    "# 데이터 셋 분할\n",
    "from sklearn.model_selection import train_test_split\n",
    "X_train, X_test, y_train, y_test = train_test_split(X, y, test_size = 0.25, random_state = 20, stratify = y)\n",
    "y_train.value_counts(True), y_test.value_counts(True)"
   ]
  },
  {
   "cell_type": "markdown",
   "id": "2c1710e7-c434-4352-afa0-c5ed81215cf5",
   "metadata": {},
   "source": [
    "# LGBM 예측 및 시행"
   ]
  },
  {
   "cell_type": "code",
   "execution_count": 83,
   "id": "50014632-6843-49b8-ba8f-fe561d5f16af",
   "metadata": {},
   "outputs": [
    {
     "data": {
      "text/html": [
       "<style>#sk-container-id-17 {color: black;background-color: white;}#sk-container-id-17 pre{padding: 0;}#sk-container-id-17 div.sk-toggleable {background-color: white;}#sk-container-id-17 label.sk-toggleable__label {cursor: pointer;display: block;width: 100%;margin-bottom: 0;padding: 0.3em;box-sizing: border-box;text-align: center;}#sk-container-id-17 label.sk-toggleable__label-arrow:before {content: \"▸\";float: left;margin-right: 0.25em;color: #696969;}#sk-container-id-17 label.sk-toggleable__label-arrow:hover:before {color: black;}#sk-container-id-17 div.sk-estimator:hover label.sk-toggleable__label-arrow:before {color: black;}#sk-container-id-17 div.sk-toggleable__content {max-height: 0;max-width: 0;overflow: hidden;text-align: left;background-color: #f0f8ff;}#sk-container-id-17 div.sk-toggleable__content pre {margin: 0.2em;color: black;border-radius: 0.25em;background-color: #f0f8ff;}#sk-container-id-17 input.sk-toggleable__control:checked~div.sk-toggleable__content {max-height: 200px;max-width: 100%;overflow: auto;}#sk-container-id-17 input.sk-toggleable__control:checked~label.sk-toggleable__label-arrow:before {content: \"▾\";}#sk-container-id-17 div.sk-estimator input.sk-toggleable__control:checked~label.sk-toggleable__label {background-color: #d4ebff;}#sk-container-id-17 div.sk-label input.sk-toggleable__control:checked~label.sk-toggleable__label {background-color: #d4ebff;}#sk-container-id-17 input.sk-hidden--visually {border: 0;clip: rect(1px 1px 1px 1px);clip: rect(1px, 1px, 1px, 1px);height: 1px;margin: -1px;overflow: hidden;padding: 0;position: absolute;width: 1px;}#sk-container-id-17 div.sk-estimator {font-family: monospace;background-color: #f0f8ff;border: 1px dotted black;border-radius: 0.25em;box-sizing: border-box;margin-bottom: 0.5em;}#sk-container-id-17 div.sk-estimator:hover {background-color: #d4ebff;}#sk-container-id-17 div.sk-parallel-item::after {content: \"\";width: 100%;border-bottom: 1px solid gray;flex-grow: 1;}#sk-container-id-17 div.sk-label:hover label.sk-toggleable__label {background-color: #d4ebff;}#sk-container-id-17 div.sk-serial::before {content: \"\";position: absolute;border-left: 1px solid gray;box-sizing: border-box;top: 0;bottom: 0;left: 50%;z-index: 0;}#sk-container-id-17 div.sk-serial {display: flex;flex-direction: column;align-items: center;background-color: white;padding-right: 0.2em;padding-left: 0.2em;position: relative;}#sk-container-id-17 div.sk-item {position: relative;z-index: 1;}#sk-container-id-17 div.sk-parallel {display: flex;align-items: stretch;justify-content: center;background-color: white;position: relative;}#sk-container-id-17 div.sk-item::before, #sk-container-id-17 div.sk-parallel-item::before {content: \"\";position: absolute;border-left: 1px solid gray;box-sizing: border-box;top: 0;bottom: 0;left: 50%;z-index: -1;}#sk-container-id-17 div.sk-parallel-item {display: flex;flex-direction: column;z-index: 1;position: relative;background-color: white;}#sk-container-id-17 div.sk-parallel-item:first-child::after {align-self: flex-end;width: 50%;}#sk-container-id-17 div.sk-parallel-item:last-child::after {align-self: flex-start;width: 50%;}#sk-container-id-17 div.sk-parallel-item:only-child::after {width: 0;}#sk-container-id-17 div.sk-dashed-wrapped {border: 1px dashed gray;margin: 0 0.4em 0.5em 0.4em;box-sizing: border-box;padding-bottom: 0.4em;background-color: white;}#sk-container-id-17 div.sk-label label {font-family: monospace;font-weight: bold;display: inline-block;line-height: 1.2em;}#sk-container-id-17 div.sk-label-container {text-align: center;}#sk-container-id-17 div.sk-container {/* jupyter's `normalize.less` sets `[hidden] { display: none; }` but bootstrap.min.css set `[hidden] { display: none !important; }` so we also need the `!important` here to be able to override the default hidden behavior on the sphinx rendered scikit-learn.org. See: https://github.com/scikit-learn/scikit-learn/issues/21755 */display: inline-block !important;position: relative;}#sk-container-id-17 div.sk-text-repr-fallback {display: none;}</style><div id=\"sk-container-id-17\" class=\"sk-top-container\"><div class=\"sk-text-repr-fallback\"><pre>LGBMClassifier(n_estimators=1000, random_state=20)</pre><b>In a Jupyter environment, please rerun this cell to show the HTML representation or trust the notebook. <br />On GitHub, the HTML representation is unable to render, please try loading this page with nbviewer.org.</b></div><div class=\"sk-container\" hidden><div class=\"sk-item\"><div class=\"sk-estimator sk-toggleable\"><input class=\"sk-toggleable__control sk-hidden--visually\" id=\"sk-estimator-id-29\" type=\"checkbox\" checked><label for=\"sk-estimator-id-29\" class=\"sk-toggleable__label sk-toggleable__label-arrow\">LGBMClassifier</label><div class=\"sk-toggleable__content\"><pre>LGBMClassifier(n_estimators=1000, random_state=20)</pre></div></div></div></div></div>"
      ],
      "text/plain": [
       "LGBMClassifier(n_estimators=1000, random_state=20)"
      ]
     },
     "execution_count": 83,
     "metadata": {},
     "output_type": "execute_result"
    }
   ],
   "source": [
    "lgbm_clf = LGBMClassifier(n_jobs=-1 , random_state= 20, n_estimators = 1000)\n",
    "\n",
    "# 학습\n",
    "lgbm_clf.fit(X_train,y_train)"
   ]
  },
  {
   "cell_type": "code",
   "execution_count": 84,
   "id": "80c9d547-3467-4fdd-b697-6d101b913285",
   "metadata": {},
   "outputs": [
    {
     "name": "stdout",
     "output_type": "stream",
     "text": [
      "----------------------------------------------------------------------------------------------------\n",
      "오차행렬:\n",
      "[[45780   117]\n",
      " [    0 45897]]\n",
      "정확도: 0.9987254 정밀도: 0.9974573 재현율: 1.0000000 F1:0.9987270 AUC: 0.9999987\n",
      "----------------------------------------------------------------------------------------------------\n",
      "오차행렬:\n",
      "[[14546   753]\n",
      " [   54 15245]]\n",
      "정확도: 0.9736257 정밀도: 0.9529316 재현율: 0.9964704 F1:0.9742148 AUC: 0.9974812\n"
     ]
    }
   ],
   "source": [
    "get_eval_score(y_train, lgbm_clf.predict(X_train), lgbm_clf.predict_proba(X_train)[:,1])\n",
    "get_eval_score(y_test, lgbm_clf.predict(X_test),lgbm_clf.predict_proba(X_test)[:,1])"
   ]
  }
 ],
 "metadata": {
  "kernelspec": {
   "display_name": "Python 3",
   "language": "python",
   "name": "python3"
  },
  "language_info": {
   "codemirror_mode": {
    "name": "ipython",
    "version": 3
   },
   "file_extension": ".py",
   "mimetype": "text/x-python",
   "name": "python",
   "nbconvert_exporter": "python",
   "pygments_lexer": "ipython3",
   "version": "3.8.8"
  }
 },
 "nbformat": 4,
 "nbformat_minor": 5
}
