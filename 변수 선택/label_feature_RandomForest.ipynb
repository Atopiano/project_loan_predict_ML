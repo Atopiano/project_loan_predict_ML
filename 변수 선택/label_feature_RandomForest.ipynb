{
 "cells": [
  {
   "cell_type": "markdown",
   "id": "e60a3828-b3a3-4dd6-a8c3-c82d2a44b6e2",
   "metadata": {},
   "source": [
    "# 랜덤포레스트 라벨인코딩 변수선택"
   ]
  },
  {
   "cell_type": "code",
   "execution_count": 183,
   "id": "88f74809-3d36-476b-a766-e47b80585a28",
   "metadata": {},
   "outputs": [],
   "source": [
    "# 필요한 sklearn import \n",
    "from sklearn.model_selection import train_test_split\n",
    "from sklearn.preprocessing import StandardScaler\n",
    "from sklearn.linear_model import LogisticRegression\n",
    "from sklearn.tree import DecisionTreeClassifier\n",
    "from sklearn.ensemble import RandomForestClassifier"
   ]
  },
  {
   "cell_type": "code",
   "execution_count": 184,
   "id": "bd142282-7b68-4592-bb19-92302b83340a",
   "metadata": {},
   "outputs": [],
   "source": [
    "import pandas as pd\n",
    "import numpy as np\n",
    "import matplotlib.pyplot as plt\n",
    "import seaborn as sns\n",
    "import warnings\n",
    "warnings.filterwarnings('ignore')"
   ]
  },
  {
   "cell_type": "code",
   "execution_count": 185,
   "id": "dd41c358-be54-4859-b328-eefb61c0cf08",
   "metadata": {},
   "outputs": [],
   "source": [
    "# train data set\n",
    "loan_train = pd.read_csv('../label_loan_train.csv')"
   ]
  },
  {
   "cell_type": "code",
   "execution_count": 186,
   "id": "972940ef-79fe-4cda-8922-ec4241d03f08",
   "metadata": {},
   "outputs": [
    {
     "data": {
      "text/plain": [
       "Index(['Loan Amount', 'Funded Amount', 'Funded Amount Investor', 'Term',\n",
       "       'Interest Rate', 'Grade', 'Sub Grade', 'Home Ownership',\n",
       "       'Employment Duration', 'Verification Status', 'Loan Title',\n",
       "       'Debit to Income', 'Delinquency - two years', 'Inquires - six months',\n",
       "       'Open Account', 'Public Record', 'Revolving Balance',\n",
       "       'Revolving Utilities', 'Total Accounts', 'Initial List Status',\n",
       "       'Total Received Interest', 'Total Received Late Fee', 'Recoveries',\n",
       "       'Collection Recovery Fee', 'Collection 12 months Medical',\n",
       "       'Application Type', 'Last week Pay', 'Accounts Delinquent',\n",
       "       'Total Collection Amount', 'Total Current Balance',\n",
       "       'Total Revolving Credit Limit', 'Loan Status'],\n",
       "      dtype='object')"
      ]
     },
     "execution_count": 186,
     "metadata": {},
     "output_type": "execute_result"
    }
   ],
   "source": [
    "# train data set의 컬럼 확인 \n",
    "loan_train.columns"
   ]
  },
  {
   "cell_type": "code",
   "execution_count": 187,
   "id": "0e17afa1-60d9-451f-9569-f58e806fd02a",
   "metadata": {},
   "outputs": [
    {
     "data": {
      "text/plain": [
       "32"
      ]
     },
     "execution_count": 187,
     "metadata": {},
     "output_type": "execute_result"
    }
   ],
   "source": [
    "len(loan_train.columns)"
   ]
  },
  {
   "cell_type": "code",
   "execution_count": 188,
   "id": "876ef60c-ecd6-4ad7-9236-7d1eb505cc29",
   "metadata": {},
   "outputs": [],
   "source": [
    "X = loan_train.drop(\"Loan Status\", axis = 1)\n",
    "y = loan_train[\"Loan Status\"]"
   ]
  },
  {
   "cell_type": "code",
   "execution_count": 189,
   "id": "8f50a4b1-436b-416c-a361-a138294c2e82",
   "metadata": {},
   "outputs": [
    {
     "name": "stdout",
     "output_type": "stream",
     "text": [
      "The number of classes before fit Counter({0: 61222, 1: 1625})\n",
      "The number of classes after fit Counter({0: 61196, 1: 61196})\n"
     ]
    }
   ],
   "source": [
    "# 타겟의 비대칭 데이터 문제를 해결하기 위하여 SMOTETomek를 사용\n",
    "\n",
    "#데이터 클래스 비율이 너무 차이가 나면(highly-imbalanced data) \n",
    "#단순히 우세한 클래스를 택하는 모형의 정확도가 높아지므로 모형의 성능판별이 어려워진다. \n",
    "#즉, 정확도(accuracy)가 높아도 데이터 갯수가 적은 클래스의 재현율(recall-rate)이 급격히 작아지는 현상이 발생할 수 있다.\n",
    "\n",
    "from imblearn.combine import SMOTETomek\n",
    "from collections import Counter\n",
    "Counter(y)\n",
    "\n",
    "os=SMOTETomek(sampling_strategy='auto', random_state = 20)\n",
    "X_train_ns,y_train_ns=os.fit_resample(X,y)\n",
    "print(\"The number of classes before fit {}\".format(Counter(y)))\n",
    "print(\"The number of classes after fit {}\".format(Counter(y_train_ns)))"
   ]
  },
  {
   "cell_type": "code",
   "execution_count": 190,
   "id": "ba981583-35cc-44d6-afe7-e9a8ab75b584",
   "metadata": {},
   "outputs": [
    {
     "data": {
      "text/plain": [
       "31"
      ]
     },
     "execution_count": 190,
     "metadata": {},
     "output_type": "execute_result"
    }
   ],
   "source": [
    "# 데이터 셋 분할\n",
    "from sklearn.model_selection import train_test_split\n",
    "X_train, X_test, y_train, y_test = train_test_split(X_train_ns, y_train_ns, test_size = 0.25, random_state = 20, stratify = y_train_ns)\n",
    "y_train_ns.value_counts(True), y_test.value_counts(True)\n",
    "len(X_train.columns)"
   ]
  },
  {
   "cell_type": "markdown",
   "id": "f3398f11-1d4a-4469-80af-3c490dfae916",
   "metadata": {},
   "source": [
    "# SelectFromModel 사용"
   ]
  },
  {
   "cell_type": "code",
   "execution_count": 191,
   "id": "93e0c735-1f6b-452b-9fd3-29dbb0d3391b",
   "metadata": {},
   "outputs": [],
   "source": [
    "from sklearn.feature_selection import SelectFromModel\n",
    "from sklearn.ensemble import RandomForestClassifier\n",
    "\n",
    "f_select = SelectFromModel(RandomForestClassifier(n_jobs=-1 , random_state = 20),  max_features = 31)\n",
    "f_select.fit(X_train, y_train)\n",
    "f_scores = pd.DataFrame()"
   ]
  },
  {
   "cell_type": "code",
   "execution_count": 192,
   "id": "c3ed8a26-c96a-4671-83c3-d8a2fb815fe5",
   "metadata": {},
   "outputs": [
    {
     "data": {
      "text/plain": [
       "array(['Funded Amount Investor', 'Home Ownership', 'Employment Duration',\n",
       "       'Verification Status', 'Delinquency - two years',\n",
       "       'Inquires - six months', 'Open Account', 'Revolving Balance',\n",
       "       'Initial List Status', 'Total Received Interest',\n",
       "       'Total Received Late Fee', 'Total Collection Amount',\n",
       "       'Total Revolving Credit Limit'], dtype=object)"
      ]
     },
     "execution_count": 192,
     "metadata": {},
     "output_type": "execute_result"
    }
   ],
   "source": [
    "f_scores['attribute'] = X_train.columns\n",
    "f_scores['support'] = f_select.get_support()\n",
    "from_model = f_scores[f_scores['support'] == True][\"attribute\"].values\n",
    "from_model"
   ]
  },
  {
   "cell_type": "markdown",
   "id": "39b0a735-cc18-4d91-86f3-40e4d69ecea0",
   "metadata": {},
   "source": [
    "# SelectKBest 사용"
   ]
  },
  {
   "cell_type": "code",
   "execution_count": 194,
   "id": "8f9c1ea3-f1c7-497a-acc6-65ee3f164e95",
   "metadata": {},
   "outputs": [],
   "source": [
    "kbest = ['Delinquency - two years', 'Open Account', 'Total Received Interest',\n",
    "       'Home Ownership', 'Loan Title', 'Revolving Balance',\n",
    "       'Verification Status', 'Initial List Status', 'Total Collection Amount',\n",
    "       'Total Received Late Fee', 'Funded Amount Investor',\n",
    "       'Employment Duration', 'Total Revolving Credit Limit',\n",
    "       'Inquires - six months', 'Term', 'Recoveries', 'Total Current Balance',\n",
    "       'Public Record', 'Grade', 'Funded Amount', 'Last week Pay',\n",
    "       'Debit to Income', 'Interest Rate', 'Collection Recovery Fee',\n",
    "       'Sub Grade', 'Total Accounts', 'Revolving Utilities']"
   ]
  },
  {
   "cell_type": "code",
   "execution_count": 195,
   "id": "476d9fdb-55cc-4cca-8357-d1829d71bbb1",
   "metadata": {
    "tags": []
   },
   "outputs": [
    {
     "data": {
      "text/plain": [
       "27"
      ]
     },
     "execution_count": 195,
     "metadata": {},
     "output_type": "execute_result"
    }
   ],
   "source": [
    "select = list(set(kbest).union(set(from_model)))\n",
    "len(select)"
   ]
  },
  {
   "cell_type": "code",
   "execution_count": 196,
   "id": "4f68a5a6-7ba1-492e-a0c8-f73cd41eb4b4",
   "metadata": {},
   "outputs": [],
   "source": [
    "X = X_train_ns[select]\n",
    "y = y_train_ns"
   ]
  },
  {
   "cell_type": "code",
   "execution_count": 197,
   "id": "95ac46f8-46ec-4bd3-bae8-97ad790fa925",
   "metadata": {},
   "outputs": [
    {
     "data": {
      "text/plain": [
       "(0    0.5\n",
       " 1    0.5\n",
       " Name: Loan Status, dtype: float64,\n",
       " 0    0.5\n",
       " 1    0.5\n",
       " Name: Loan Status, dtype: float64)"
      ]
     },
     "execution_count": 197,
     "metadata": {},
     "output_type": "execute_result"
    }
   ],
   "source": [
    "# 데이터 셋 분할\n",
    "from sklearn.model_selection import train_test_split\n",
    "X_train, X_test, y_train, y_test = train_test_split(X, y, test_size = 0.25, random_state = 20, stratify = y)\n",
    "y_train_ns.value_counts(True), y_test.value_counts(True)"
   ]
  },
  {
   "cell_type": "markdown",
   "id": "5e05b046-3a0e-45c5-a78a-96b2f5ca2ffb",
   "metadata": {},
   "source": [
    "# 랜덤포레스트 예측 및 시행"
   ]
  },
  {
   "cell_type": "code",
   "execution_count": 198,
   "id": "2ea664d9-d522-4a4d-b7c0-16631b84b09c",
   "metadata": {},
   "outputs": [
    {
     "data": {
      "text/html": [
       "<style>#sk-container-id-16 {color: black;background-color: white;}#sk-container-id-16 pre{padding: 0;}#sk-container-id-16 div.sk-toggleable {background-color: white;}#sk-container-id-16 label.sk-toggleable__label {cursor: pointer;display: block;width: 100%;margin-bottom: 0;padding: 0.3em;box-sizing: border-box;text-align: center;}#sk-container-id-16 label.sk-toggleable__label-arrow:before {content: \"▸\";float: left;margin-right: 0.25em;color: #696969;}#sk-container-id-16 label.sk-toggleable__label-arrow:hover:before {color: black;}#sk-container-id-16 div.sk-estimator:hover label.sk-toggleable__label-arrow:before {color: black;}#sk-container-id-16 div.sk-toggleable__content {max-height: 0;max-width: 0;overflow: hidden;text-align: left;background-color: #f0f8ff;}#sk-container-id-16 div.sk-toggleable__content pre {margin: 0.2em;color: black;border-radius: 0.25em;background-color: #f0f8ff;}#sk-container-id-16 input.sk-toggleable__control:checked~div.sk-toggleable__content {max-height: 200px;max-width: 100%;overflow: auto;}#sk-container-id-16 input.sk-toggleable__control:checked~label.sk-toggleable__label-arrow:before {content: \"▾\";}#sk-container-id-16 div.sk-estimator input.sk-toggleable__control:checked~label.sk-toggleable__label {background-color: #d4ebff;}#sk-container-id-16 div.sk-label input.sk-toggleable__control:checked~label.sk-toggleable__label {background-color: #d4ebff;}#sk-container-id-16 input.sk-hidden--visually {border: 0;clip: rect(1px 1px 1px 1px);clip: rect(1px, 1px, 1px, 1px);height: 1px;margin: -1px;overflow: hidden;padding: 0;position: absolute;width: 1px;}#sk-container-id-16 div.sk-estimator {font-family: monospace;background-color: #f0f8ff;border: 1px dotted black;border-radius: 0.25em;box-sizing: border-box;margin-bottom: 0.5em;}#sk-container-id-16 div.sk-estimator:hover {background-color: #d4ebff;}#sk-container-id-16 div.sk-parallel-item::after {content: \"\";width: 100%;border-bottom: 1px solid gray;flex-grow: 1;}#sk-container-id-16 div.sk-label:hover label.sk-toggleable__label {background-color: #d4ebff;}#sk-container-id-16 div.sk-serial::before {content: \"\";position: absolute;border-left: 1px solid gray;box-sizing: border-box;top: 0;bottom: 0;left: 50%;z-index: 0;}#sk-container-id-16 div.sk-serial {display: flex;flex-direction: column;align-items: center;background-color: white;padding-right: 0.2em;padding-left: 0.2em;position: relative;}#sk-container-id-16 div.sk-item {position: relative;z-index: 1;}#sk-container-id-16 div.sk-parallel {display: flex;align-items: stretch;justify-content: center;background-color: white;position: relative;}#sk-container-id-16 div.sk-item::before, #sk-container-id-16 div.sk-parallel-item::before {content: \"\";position: absolute;border-left: 1px solid gray;box-sizing: border-box;top: 0;bottom: 0;left: 50%;z-index: -1;}#sk-container-id-16 div.sk-parallel-item {display: flex;flex-direction: column;z-index: 1;position: relative;background-color: white;}#sk-container-id-16 div.sk-parallel-item:first-child::after {align-self: flex-end;width: 50%;}#sk-container-id-16 div.sk-parallel-item:last-child::after {align-self: flex-start;width: 50%;}#sk-container-id-16 div.sk-parallel-item:only-child::after {width: 0;}#sk-container-id-16 div.sk-dashed-wrapped {border: 1px dashed gray;margin: 0 0.4em 0.5em 0.4em;box-sizing: border-box;padding-bottom: 0.4em;background-color: white;}#sk-container-id-16 div.sk-label label {font-family: monospace;font-weight: bold;display: inline-block;line-height: 1.2em;}#sk-container-id-16 div.sk-label-container {text-align: center;}#sk-container-id-16 div.sk-container {/* jupyter's `normalize.less` sets `[hidden] { display: none; }` but bootstrap.min.css set `[hidden] { display: none !important; }` so we also need the `!important` here to be able to override the default hidden behavior on the sphinx rendered scikit-learn.org. See: https://github.com/scikit-learn/scikit-learn/issues/21755 */display: inline-block !important;position: relative;}#sk-container-id-16 div.sk-text-repr-fallback {display: none;}</style><div id=\"sk-container-id-16\" class=\"sk-top-container\"><div class=\"sk-text-repr-fallback\"><pre>RandomForestClassifier(n_jobs=-1, random_state=20)</pre><b>In a Jupyter environment, please rerun this cell to show the HTML representation or trust the notebook. <br />On GitHub, the HTML representation is unable to render, please try loading this page with nbviewer.org.</b></div><div class=\"sk-container\" hidden><div class=\"sk-item\"><div class=\"sk-estimator sk-toggleable\"><input class=\"sk-toggleable__control sk-hidden--visually\" id=\"sk-estimator-id-16\" type=\"checkbox\" checked><label for=\"sk-estimator-id-16\" class=\"sk-toggleable__label sk-toggleable__label-arrow\">RandomForestClassifier</label><div class=\"sk-toggleable__content\"><pre>RandomForestClassifier(n_jobs=-1, random_state=20)</pre></div></div></div></div></div>"
      ],
      "text/plain": [
       "RandomForestClassifier(n_jobs=-1, random_state=20)"
      ]
     },
     "execution_count": 198,
     "metadata": {},
     "output_type": "execute_result"
    }
   ],
   "source": [
    "from sklearn.ensemble import RandomForestClassifier\n",
    "\n",
    "rf_clf = RandomForestClassifier(n_jobs=-1 , random_state= 20)\n",
    "\n",
    "# 학습\n",
    "rf_clf.fit(X_train,y_train)"
   ]
  },
  {
   "cell_type": "code",
   "execution_count": 199,
   "id": "d315497b-b39b-4b5d-8c67-4fce071a6a4e",
   "metadata": {},
   "outputs": [],
   "source": [
    "\n",
    "def get_eval_score(y_test, y_pred, y_pred_proba):\n",
    "    from sklearn.metrics import f1_score, roc_auc_score, confusion_matrix,accuracy_score, precision_score, recall_score\n",
    "    confusion = confusion_matrix(y_test, y_pred)\n",
    "    acc = accuracy_score(y_test, y_pred)\n",
    "    prec = precision_score(y_test, y_pred)\n",
    "    recall = recall_score(y_test, y_pred)\n",
    "    f1 = f1_score(y_test, y_pred)\n",
    "    roc_auc = roc_auc_score(y_test, y_pred_proba)\n",
    "    \n",
    "    print(\"-\"* 100)\n",
    "    print(\"오차행렬:\")\n",
    "    print(confusion)\n",
    "    print(\"정확도: {:.7f} 정밀도: {:.7f} 재현율: {:.7f} F1:{:.7f} AUC: {:.7f}\".\\\n",
    "          format(acc, prec,recall, f1, roc_auc ))\n",
    "    return\n"
   ]
  },
  {
   "cell_type": "code",
   "execution_count": 200,
   "id": "0bb52066-e419-4bc4-9e0b-742dd141dfb2",
   "metadata": {},
   "outputs": [
    {
     "name": "stdout",
     "output_type": "stream",
     "text": [
      "----------------------------------------------------------------------------------------------------\n",
      "오차행렬:\n",
      "[[45896     1]\n",
      " [    0 45897]]\n",
      "정확도: 0.9999891 정밀도: 0.9999782 재현율: 1.0000000 F1:0.9999891 AUC: 1.0000000\n",
      "----------------------------------------------------------------------------------------------------\n",
      "오차행렬:\n",
      "[[14389   910]\n",
      " [  242 15057]]\n",
      "정확도: 0.9623505 정밀도: 0.9430075 재현율: 0.9841820 F1:0.9631549 AUC: 0.9940739\n"
     ]
    }
   ],
   "source": [
    "get_eval_score(y_train, rf_clf.predict(X_train), rf_clf.predict_proba(X_train)[:,1])\n",
    "get_eval_score(y_test, rf_clf.predict(X_test),rf_clf.predict_proba(X_test)[:,1])"
   ]
  },
  {
   "cell_type": "code",
   "execution_count": null,
   "id": "bbf2a904-6f10-4277-9efc-7d3b7ad383c5",
   "metadata": {},
   "outputs": [],
   "source": [
    "정확도: 0.9640220 정밀도: 0.9448622 재현율: 0.9855565 F1:0.9647804 AUC: 0.9947145"
   ]
  }
 ],
 "metadata": {
  "kernelspec": {
   "display_name": "Python 3",
   "language": "python",
   "name": "python3"
  },
  "language_info": {
   "codemirror_mode": {
    "name": "ipython",
    "version": 3
   },
   "file_extension": ".py",
   "mimetype": "text/x-python",
   "name": "python",
   "nbconvert_exporter": "python",
   "pygments_lexer": "ipython3",
   "version": "3.8.8"
  }
 },
 "nbformat": 4,
 "nbformat_minor": 5
}
