{
 "cells": [
  {
   "cell_type": "markdown",
   "id": "fc03dca8-caa4-4c05-9081-f2277776ddce",
   "metadata": {},
   "source": [
    "## KBest 모델"
   ]
  },
  {
   "cell_type": "code",
   "execution_count": 47,
   "id": "8598b9df-1e3b-41e0-a0c5-e203598b6bb4",
   "metadata": {},
   "outputs": [],
   "source": [
    "# 필요한 sklearn import \n",
    "from sklearn.model_selection import train_test_split\n",
    "from sklearn.preprocessing import StandardScaler\n",
    "from sklearn.linear_model import LogisticRegression\n",
    "from sklearn.tree import DecisionTreeClassifier\n",
    "from sklearn.ensemble import RandomForestClassifier"
   ]
  },
  {
   "cell_type": "code",
   "execution_count": 48,
   "id": "b565a28f-d248-4292-816e-be564590d24a",
   "metadata": {},
   "outputs": [],
   "source": [
    "import pandas as pd\n",
    "import numpy as np\n",
    "import matplotlib.pyplot as plt\n",
    "import seaborn as sns\n",
    "import warnings\n",
    "warnings.filterwarnings('ignore')"
   ]
  },
  {
   "cell_type": "code",
   "execution_count": 49,
   "id": "f6a15d67-47d1-4b97-aab9-272099ea5b34",
   "metadata": {},
   "outputs": [],
   "source": [
    "# train data set\n",
    "loan_train = pd.read_csv('../label_loan_train.csv')"
   ]
  },
  {
   "cell_type": "code",
   "execution_count": 50,
   "id": "5cc60c7b-c990-434b-ae28-45bb51637a90",
   "metadata": {},
   "outputs": [
    {
     "data": {
      "text/plain": [
       "Index(['Loan Amount', 'Funded Amount', 'Funded Amount Investor', 'Term',\n",
       "       'Interest Rate', 'Grade', 'Sub Grade', 'Home Ownership',\n",
       "       'Employment Duration', 'Verification Status', 'Loan Title',\n",
       "       'Debit to Income', 'Delinquency - two years', 'Inquires - six months',\n",
       "       'Open Account', 'Public Record', 'Revolving Balance',\n",
       "       'Revolving Utilities', 'Total Accounts', 'Initial List Status',\n",
       "       'Total Received Interest', 'Total Received Late Fee', 'Recoveries',\n",
       "       'Collection Recovery Fee', 'Collection 12 months Medical',\n",
       "       'Application Type', 'Last week Pay', 'Accounts Delinquent',\n",
       "       'Total Collection Amount', 'Total Current Balance',\n",
       "       'Total Revolving Credit Limit', 'Loan Status'],\n",
       "      dtype='object')"
      ]
     },
     "execution_count": 50,
     "metadata": {},
     "output_type": "execute_result"
    }
   ],
   "source": [
    "# train data set의 컬럼 확인 \n",
    "loan_train.columns"
   ]
  },
  {
   "cell_type": "code",
   "execution_count": 51,
   "id": "eabc005f-45ae-4665-8a44-3e53a78f3519",
   "metadata": {},
   "outputs": [],
   "source": [
    "X = loan_train.drop(\"Loan Status\", axis = 1)\n",
    "y = loan_train[\"Loan Status\"]"
   ]
  },
  {
   "cell_type": "code",
   "execution_count": 52,
   "id": "ee210296-ff89-4040-a30b-4f244888c7ae",
   "metadata": {},
   "outputs": [
    {
     "name": "stdout",
     "output_type": "stream",
     "text": [
      "The number of classes before fit Counter({0: 61222, 1: 1625})\n",
      "The number of classes after fit Counter({0: 61198, 1: 61198})\n"
     ]
    }
   ],
   "source": [
    "# 타겟의 비대칭 데이터 문제를 해결하기 위하여 SMOTETomek를 사용\n",
    "\n",
    "#데이터 클래스 비율이 너무 차이가 나면(highly-imbalanced data) \n",
    "#단순히 우세한 클래스를 택하는 모형의 정확도가 높아지므로 모형의 성능판별이 어려워진다. \n",
    "#즉, 정확도(accuracy)가 높아도 데이터 갯수가 적은 클래스의 재현율(recall-rate)이 급격히 작아지는 현상이 발생할 수 있다.\n",
    "\n",
    "from imblearn.combine import SMOTETomek\n",
    "from collections import Counter\n",
    "Counter(y)\n",
    "\n",
    "os=SMOTETomek(sampling_strategy='auto')\n",
    "X_train_ns,y_train_ns=os.fit_resample(X,y)\n",
    "print(\"The number of classes before fit {}\".format(Counter(y)))\n",
    "print(\"The number of classes after fit {}\".format(Counter(y_train_ns)))"
   ]
  },
  {
   "cell_type": "code",
   "execution_count": 53,
   "id": "eb7d2a25-522d-4909-b563-1a97cb3394f9",
   "metadata": {},
   "outputs": [
    {
     "data": {
      "text/plain": [
       "31"
      ]
     },
     "execution_count": 53,
     "metadata": {},
     "output_type": "execute_result"
    }
   ],
   "source": [
    "# 데이터 셋 분할\n",
    "from sklearn.model_selection import train_test_split\n",
    "X_train, X_test, y_train, y_test = train_test_split(X_train_ns, y_train_ns, test_size = 0.25, random_state = 20, stratify = y_train_ns)\n",
    "y_train_ns.value_counts(True), y_test.value_counts(True)\n",
    "len(X_train.columns)"
   ]
  },
  {
   "cell_type": "markdown",
   "id": "50f81f88-79bc-41f8-acae-a54e6da58a0a",
   "metadata": {},
   "source": [
    "# SelectKBest 사용"
   ]
  },
  {
   "cell_type": "code",
   "execution_count": 54,
   "id": "294275be-20c0-4076-b72f-ce60381dae20",
   "metadata": {},
   "outputs": [],
   "source": [
    "from sklearn.feature_selection import mutual_info_classif\n",
    "mutual_info = mutual_info_classif(X_train,y_train, random_state = 20)\n",
    "\n",
    "mutual_data = pd.Series(mutual_info,index=X_train.columns)\n"
   ]
  },
  {
   "cell_type": "code",
   "execution_count": 69,
   "id": "ee683170-c88e-4e4b-9368-3fc07da4a74b",
   "metadata": {},
   "outputs": [
    {
     "data": {
      "text/plain": [
       "Index(['Delinquency - two years', 'Open Account', 'Total Received Interest',\n",
       "       'Home Ownership', 'Loan Title', 'Revolving Balance',\n",
       "       'Verification Status', 'Initial List Status', 'Total Collection Amount',\n",
       "       'Total Received Late Fee', 'Funded Amount Investor',\n",
       "       'Employment Duration', 'Total Revolving Credit Limit',\n",
       "       'Inquires - six months', 'Term', 'Recoveries', 'Total Current Balance',\n",
       "       'Public Record', 'Grade', 'Funded Amount', 'Last week Pay',\n",
       "       'Debit to Income', 'Interest Rate', 'Collection Recovery Fee',\n",
       "       'Sub Grade', 'Total Accounts', 'Revolving Utilities'],\n",
       "      dtype='object')"
      ]
     },
     "execution_count": 69,
     "metadata": {},
     "output_type": "execute_result"
    }
   ],
   "source": [
    "feature = mutual_data.sort_values(ascending = False)\n",
    "feature[feature.values > 0.01].index"
   ]
  }
 ],
 "metadata": {
  "kernelspec": {
   "display_name": "Python 3",
   "language": "python",
   "name": "python3"
  },
  "language_info": {
   "codemirror_mode": {
    "name": "ipython",
    "version": 3
   },
   "file_extension": ".py",
   "mimetype": "text/x-python",
   "name": "python",
   "nbconvert_exporter": "python",
   "pygments_lexer": "ipython3",
   "version": "3.8.8"
  }
 },
 "nbformat": 4,
 "nbformat_minor": 5
}
